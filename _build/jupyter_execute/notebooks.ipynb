{
 "cells": [
  {
   "cell_type": "markdown",
   "metadata": {
    "id": "q3uqkJTK4Z2L"
   },
   "source": [
    "# Crawling Website\n",
    "Crawling merupakan suatu proses pengambilan data dengan menggunakan mesin yang dilakukan secara online. Proses ini dilakukan untuk mengimpor data yang ditemukan kedalam file lokal komputer. Untuk dapat melakukan crawling dengan menggunakan python kita dapat menggunakan scrapy."
   ]
  },
  {
   "cell_type": "markdown",
   "metadata": {
    "id": "SfkO5DQK5UAf"
   },
   "source": [
    "## **Installasi Scrapy**\n",
    "Scrapy adalah kerangka kerja aplikasi untuk crawling web site dan mengekstraksi data terstruktur yang dapat digunakan untuk berbagai aplikasi yang bermanfaat, seperti data mining, pemrosesan informasi atau arsip sejarah. Meskipun Scrapy awalnya dirancang untuk web scraping, namu scrapy juga dapat digunakan untuk mengekstrak data menggunakan API (seperti Amazon Associates Web Services) atau sebagai web crawl.<br>\n",
    "Untuk menggunakan scrapy terlebih dahulu install scrapy dengan source code berikut."
   ]
  },
  {
   "cell_type": "code",
   "execution_count": 1,
   "metadata": {
    "colab": {
     "base_uri": "https://localhost:8080/"
    },
    "id": "EgX0a_jYB56V",
    "outputId": "5e0045d4-3068-4ca4-b07d-7a92826ac7db"
   },
   "outputs": [
    {
     "name": "stdout",
     "output_type": "stream",
     "text": [
      "Requirement already satisfied: scrapy in c:\\users\\hamba notebook\\appdata\\local\\programs\\python\\python38\\lib\\site-packages (2.6.2)\n",
      "Requirement already satisfied: PyDispatcher>=2.0.5 in c:\\users\\hamba notebook\\appdata\\local\\programs\\python\\python38\\lib\\site-packages (from scrapy) (2.0.5)\n",
      "Requirement already satisfied: lxml>=3.5.0 in c:\\users\\hamba notebook\\appdata\\local\\programs\\python\\python38\\lib\\site-packages (from scrapy) (4.9.1)\n",
      "Requirement already satisfied: cssselect>=0.9.1 in c:\\users\\hamba notebook\\appdata\\local\\programs\\python\\python38\\lib\\site-packages (from scrapy) (1.1.0)\n",
      "Requirement already satisfied: queuelib>=1.4.2 in c:\\users\\hamba notebook\\appdata\\local\\programs\\python\\python38\\lib\\site-packages (from scrapy) (1.6.2)\n",
      "Requirement already satisfied: cryptography>=2.0 in c:\\users\\hamba notebook\\appdata\\local\\programs\\python\\python38\\lib\\site-packages (from scrapy) (37.0.4)\n",
      "Requirement already satisfied: service-identity>=16.0.0 in c:\\users\\hamba notebook\\appdata\\local\\programs\\python\\python38\\lib\\site-packages (from scrapy) (21.1.0)\n",
      "Requirement already satisfied: setuptools in c:\\users\\hamba notebook\\appdata\\local\\programs\\python\\python38\\lib\\site-packages (from scrapy) (41.2.0)\n",
      "Requirement already satisfied: tldextract in c:\\users\\hamba notebook\\appdata\\local\\programs\\python\\python38\\lib\\site-packages (from scrapy) (3.3.1)\n",
      "Requirement already satisfied: pyOpenSSL>=16.2.0 in c:\\users\\hamba notebook\\appdata\\local\\programs\\python\\python38\\lib\\site-packages (from scrapy) (22.0.0)\n",
      "Requirement already satisfied: w3lib>=1.17.0 in c:\\users\\hamba notebook\\appdata\\local\\programs\\python\\python38\\lib\\site-packages (from scrapy) (2.0.1)\n",
      "Requirement already satisfied: itemadapter>=0.1.0 in c:\\users\\hamba notebook\\appdata\\local\\programs\\python\\python38\\lib\\site-packages (from scrapy) (0.7.0)\n",
      "Requirement already satisfied: itemloaders>=1.0.1 in c:\\users\\hamba notebook\\appdata\\local\\programs\\python\\python38\\lib\\site-packages (from scrapy) (1.0.6)\n",
      "Requirement already satisfied: zope.interface>=4.1.3 in c:\\users\\hamba notebook\\appdata\\local\\programs\\python\\python38\\lib\\site-packages (from scrapy) (5.4.0)\n",
      "Requirement already satisfied: parsel>=1.5.0 in c:\\users\\hamba notebook\\appdata\\local\\programs\\python\\python38\\lib\\site-packages (from scrapy) (1.6.0)\n",
      "Requirement already satisfied: protego>=0.1.15 in c:\\users\\hamba notebook\\appdata\\local\\programs\\python\\python38\\lib\\site-packages (from scrapy) (0.2.1)\n",
      "Requirement already satisfied: Twisted>=17.9.0 in c:\\users\\hamba notebook\\appdata\\local\\programs\\python\\python38\\lib\\site-packages (from scrapy) (22.4.0)\n",
      "Requirement already satisfied: cffi>=1.12 in c:\\users\\hamba notebook\\appdata\\local\\programs\\python\\python38\\lib\\site-packages (from cryptography>=2.0->scrapy) (1.14.5)\n",
      "Requirement already satisfied: jmespath>=0.9.5 in c:\\users\\hamba notebook\\appdata\\local\\programs\\python\\python38\\lib\\site-packages (from itemloaders>=1.0.1->scrapy) (1.0.1)\n",
      "Requirement already satisfied: six>=1.6.0 in c:\\users\\hamba notebook\\appdata\\roaming\\python\\python38\\site-packages (from parsel>=1.5.0->scrapy) (1.15.0)\n",
      "Requirement already satisfied: pyasn1-modules in c:\\users\\hamba notebook\\appdata\\local\\programs\\python\\python38\\lib\\site-packages (from service-identity>=16.0.0->scrapy) (0.2.8)\n",
      "Requirement already satisfied: pyasn1 in c:\\users\\hamba notebook\\appdata\\local\\programs\\python\\python38\\lib\\site-packages (from service-identity>=16.0.0->scrapy) (0.4.8)\n",
      "Requirement already satisfied: attrs>=19.1.0 in c:\\users\\hamba notebook\\appdata\\local\\programs\\python\\python38\\lib\\site-packages (from service-identity>=16.0.0->scrapy) (20.3.0)\n",
      "Requirement already satisfied: twisted-iocpsupport<2,>=1.0.2 in c:\\users\\hamba notebook\\appdata\\local\\programs\\python\\python38\\lib\\site-packages (from Twisted>=17.9.0->scrapy) (1.0.2)\n",
      "Requirement already satisfied: incremental>=21.3.0 in c:\\users\\hamba notebook\\appdata\\local\\programs\\python\\python38\\lib\\site-packages (from Twisted>=17.9.0->scrapy) (21.3.0)\n",
      "Requirement already satisfied: Automat>=0.8.0 in c:\\users\\hamba notebook\\appdata\\local\\programs\\python\\python38\\lib\\site-packages (from Twisted>=17.9.0->scrapy) (20.2.0)\n",
      "Requirement already satisfied: typing-extensions>=3.6.5 in c:\\users\\hamba notebook\\appdata\\local\\programs\\python\\python38\\lib\\site-packages (from Twisted>=17.9.0->scrapy) (4.3.0)\n",
      "Requirement already satisfied: hyperlink>=17.1.1 in c:\\users\\hamba notebook\\appdata\\local\\programs\\python\\python38\\lib\\site-packages (from Twisted>=17.9.0->scrapy) (21.0.0)\n",
      "Requirement already satisfied: constantly>=15.1 in c:\\users\\hamba notebook\\appdata\\local\\programs\\python\\python38\\lib\\site-packages (from Twisted>=17.9.0->scrapy) (15.1.0)\n",
      "Requirement already satisfied: idna in c:\\users\\hamba notebook\\appdata\\local\\programs\\python\\python38\\lib\\site-packages (from tldextract->scrapy) (3.3)\n",
      "Requirement already satisfied: requests-file>=1.4 in c:\\users\\hamba notebook\\appdata\\local\\programs\\python\\python38\\lib\\site-packages (from tldextract->scrapy) (1.5.1)\n",
      "Requirement already satisfied: filelock>=3.0.8 in c:\\users\\hamba notebook\\appdata\\local\\programs\\python\\python38\\lib\\site-packages (from tldextract->scrapy) (3.8.0)\n",
      "Requirement already satisfied: requests>=2.1.0 in c:\\users\\hamba notebook\\appdata\\local\\programs\\python\\python38\\lib\\site-packages (from tldextract->scrapy) (2.28.1)\n",
      "Requirement already satisfied: pycparser in c:\\users\\hamba notebook\\appdata\\local\\programs\\python\\python38\\lib\\site-packages (from cffi>=1.12->cryptography>=2.0->scrapy) (2.20)\n",
      "Requirement already satisfied: charset-normalizer<3,>=2 in c:\\users\\hamba notebook\\appdata\\local\\programs\\python\\python38\\lib\\site-packages (from requests>=2.1.0->tldextract->scrapy) (2.1.1)\n",
      "Requirement already satisfied: urllib3<1.27,>=1.21.1 in c:\\users\\hamba notebook\\appdata\\local\\programs\\python\\python38\\lib\\site-packages (from requests>=2.1.0->tldextract->scrapy) (1.26.12)\n",
      "Requirement already satisfied: certifi>=2017.4.17 in c:\\users\\hamba notebook\\appdata\\local\\programs\\python\\python38\\lib\\site-packages (from requests>=2.1.0->tldextract->scrapy) (2022.6.15)\n"
     ]
    }
   ],
   "source": [
    "!pip install scrapy"
   ]
  },
  {
   "cell_type": "markdown",
   "metadata": {
    "id": "Swa8dh5S57Vo"
   },
   "source": [
    "## **Crawling Abstrak**\n",
    "Setelah berhasil menginstall scrapy, selanjutnya kita dapat melakukan proses crawling data abstrak dari pta.trunojoyo menggunakan library scrapy dengan menggunakan source code berikut."
   ]
  },
  {
   "cell_type": "code",
   "execution_count": 2,
   "metadata": {
    "colab": {
     "base_uri": "https://localhost:8080/"
    },
    "id": "Ftg5pTqtmapU",
    "outputId": "c1a2ca41-2312-4732-b2a9-2eb1a1118ddf"
   },
   "outputs": [
    {
     "name": "stderr",
     "output_type": "stream",
     "text": [
      "2022-12-02 16:34:09 [scrapy.utils.log] INFO: Scrapy 2.6.2 started (bot: scrapybot)\n"
     ]
    },
    {
     "name": "stderr",
     "output_type": "stream",
     "text": [
      "2022-12-02 16:34:09 [scrapy.utils.log] INFO: Versions: lxml 4.9.1.0, libxml2 2.9.12, cssselect 1.1.0, parsel 1.6.0, w3lib 2.0.1, Twisted 22.4.0, Python 3.8.0 (tags/v3.8.0:fa919fd, Oct 14 2019, 19:37:50) [MSC v.1916 64 bit (AMD64)], pyOpenSSL 22.0.0 (OpenSSL 3.0.5 5 Jul 2022), cryptography 37.0.4, Platform Windows-10-10.0.18362-SP0\n"
     ]
    },
    {
     "name": "stderr",
     "output_type": "stream",
     "text": [
      "2022-12-02 16:34:10 [scrapy.crawler] INFO: Overridden settings:\n",
      "{}\n"
     ]
    },
    {
     "name": "stderr",
     "output_type": "stream",
     "text": [
      "2022-12-02 16:34:10 [scrapy.utils.log] DEBUG: Using reactor: twisted.internet.selectreactor.SelectReactor\n"
     ]
    },
    {
     "name": "stderr",
     "output_type": "stream",
     "text": [
      "2022-12-02 16:34:10 [scrapy.extensions.telnet] INFO: Telnet Password: 2bcaaea8a940644d\n"
     ]
    },
    {
     "name": "stderr",
     "output_type": "stream",
     "text": [
      "2022-12-02 16:34:10 [py.warnings] WARNING: c:\\users\\hamba notebook\\appdata\\local\\programs\\python\\python38\\lib\\site-packages\\scrapy\\extensions\\feedexport.py:289: ScrapyDeprecationWarning: The `FEED_URI` and `FEED_FORMAT` settings have been deprecated in favor of the `FEEDS` setting. Please see the `FEEDS` setting docs for more details\n",
      "  exporter = cls(crawler)\n",
      "\n"
     ]
    },
    {
     "name": "stderr",
     "output_type": "stream",
     "text": [
      "2022-12-02 16:34:10 [scrapy.middleware] INFO: Enabled extensions:\n",
      "['scrapy.extensions.corestats.CoreStats',\n",
      " 'scrapy.extensions.telnet.TelnetConsole',\n",
      " 'scrapy.extensions.feedexport.FeedExporter',\n",
      " 'scrapy.extensions.logstats.LogStats']\n"
     ]
    },
    {
     "name": "stderr",
     "output_type": "stream",
     "text": [
      "2022-12-02 16:34:11 [scrapy.middleware] INFO: Enabled downloader middlewares:\n",
      "['scrapy.downloadermiddlewares.httpauth.HttpAuthMiddleware',\n",
      " 'scrapy.downloadermiddlewares.downloadtimeout.DownloadTimeoutMiddleware',\n",
      " 'scrapy.downloadermiddlewares.defaultheaders.DefaultHeadersMiddleware',\n",
      " 'scrapy.downloadermiddlewares.useragent.UserAgentMiddleware',\n",
      " 'scrapy.downloadermiddlewares.retry.RetryMiddleware',\n",
      " 'scrapy.downloadermiddlewares.redirect.MetaRefreshMiddleware',\n",
      " 'scrapy.downloadermiddlewares.httpcompression.HttpCompressionMiddleware',\n",
      " 'scrapy.downloadermiddlewares.redirect.RedirectMiddleware',\n",
      " 'scrapy.downloadermiddlewares.cookies.CookiesMiddleware',\n",
      " 'scrapy.downloadermiddlewares.httpproxy.HttpProxyMiddleware',\n",
      " 'scrapy.downloadermiddlewares.stats.DownloaderStats']\n"
     ]
    },
    {
     "name": "stderr",
     "output_type": "stream",
     "text": [
      "2022-12-02 16:34:11 [scrapy.middleware] INFO: Enabled spider middlewares:\n",
      "['scrapy.spidermiddlewares.httperror.HttpErrorMiddleware',\n",
      " 'scrapy.spidermiddlewares.offsite.OffsiteMiddleware',\n",
      " 'scrapy.spidermiddlewares.referer.RefererMiddleware',\n",
      " 'scrapy.spidermiddlewares.urllength.UrlLengthMiddleware',\n",
      " 'scrapy.spidermiddlewares.depth.DepthMiddleware']\n"
     ]
    },
    {
     "name": "stderr",
     "output_type": "stream",
     "text": [
      "2022-12-02 16:34:11 [scrapy.middleware] INFO: Enabled item pipelines:\n",
      "[]\n"
     ]
    },
    {
     "name": "stderr",
     "output_type": "stream",
     "text": [
      "2022-12-02 16:34:11 [scrapy.core.engine] INFO: Spider opened\n"
     ]
    },
    {
     "name": "stderr",
     "output_type": "stream",
     "text": [
      "2022-12-02 16:34:11 [scrapy.extensions.logstats] INFO: Crawled 0 pages (at 0 pages/min), scraped 0 items (at 0 items/min)\n"
     ]
    },
    {
     "name": "stderr",
     "output_type": "stream",
     "text": [
      "2022-12-02 16:34:11 [scrapy.extensions.telnet] INFO: Telnet console listening on 127.0.0.1:6023\n"
     ]
    },
    {
     "name": "stderr",
     "output_type": "stream",
     "text": [
      "2022-12-02 16:34:12 [filelock] DEBUG: Attempting to acquire lock 2477188338928 on c:\\users\\hamba notebook\\appdata\\local\\programs\\python\\python38\\lib\\site-packages\\tldextract\\.suffix_cache/publicsuffix.org-tlds\\de84b5ca2167d4c83e38fb162f2e8738.tldextract.json.lock\n"
     ]
    },
    {
     "name": "stderr",
     "output_type": "stream",
     "text": [
      "2022-12-02 16:34:12 [filelock] DEBUG: Lock 2477188338928 acquired on c:\\users\\hamba notebook\\appdata\\local\\programs\\python\\python38\\lib\\site-packages\\tldextract\\.suffix_cache/publicsuffix.org-tlds\\de84b5ca2167d4c83e38fb162f2e8738.tldextract.json.lock\n"
     ]
    },
    {
     "name": "stderr",
     "output_type": "stream",
     "text": [
      "2022-12-02 16:34:12 [filelock] DEBUG: Attempting to release lock 2477188338928 on c:\\users\\hamba notebook\\appdata\\local\\programs\\python\\python38\\lib\\site-packages\\tldextract\\.suffix_cache/publicsuffix.org-tlds\\de84b5ca2167d4c83e38fb162f2e8738.tldextract.json.lock\n"
     ]
    },
    {
     "name": "stderr",
     "output_type": "stream",
     "text": [
      "2022-12-02 16:34:12 [filelock] DEBUG: Lock 2477188338928 released on c:\\users\\hamba notebook\\appdata\\local\\programs\\python\\python38\\lib\\site-packages\\tldextract\\.suffix_cache/publicsuffix.org-tlds\\de84b5ca2167d4c83e38fb162f2e8738.tldextract.json.lock\n"
     ]
    },
    {
     "name": "stderr",
     "output_type": "stream",
     "text": [
      "2022-12-02 16:34:12 [scrapy.core.engine] DEBUG: Crawled (200) <GET https://pta.trunojoyo.ac.id/welcome/detail/140411100006> (referer: None)\n"
     ]
    },
    {
     "name": "stderr",
     "output_type": "stream",
     "text": [
      "2022-12-02 16:34:12 [scrapy.core.engine] DEBUG: Crawled (200) <GET https://pta.trunojoyo.ac.id/welcome/detail/140411100007> (referer: None)\n"
     ]
    },
    {
     "name": "stderr",
     "output_type": "stream",
     "text": [
      "2022-12-02 16:34:12 [scrapy.core.engine] DEBUG: Crawled (200) <GET https://pta.trunojoyo.ac.id/welcome/detail/140411100005> (referer: None)\n"
     ]
    },
    {
     "name": "stderr",
     "output_type": "stream",
     "text": [
      "2022-12-02 16:34:13 [scrapy.core.scraper] DEBUG: Scraped from <200 https://pta.trunojoyo.ac.id/welcome/detail/140411100006>\r\n",
      "{'Abstrak': None}\n"
     ]
    },
    {
     "name": "stderr",
     "output_type": "stream",
     "text": [
      "2022-12-02 16:34:13 [scrapy.core.scraper] DEBUG: Scraped from <200 https://pta.trunojoyo.ac.id/welcome/detail/140411100007>\r\n",
      "{'Abstrak': None}\n"
     ]
    },
    {
     "name": "stderr",
     "output_type": "stream",
     "text": [
      "2022-12-02 16:34:13 [scrapy.core.engine] DEBUG: Crawled (200) <GET https://pta.trunojoyo.ac.id/welcome/detail/140411100003> (referer: None)\n"
     ]
    },
    {
     "name": "stderr",
     "output_type": "stream",
     "text": [
      "2022-12-02 16:34:13 [scrapy.core.scraper] DEBUG: Scraped from <200 https://pta.trunojoyo.ac.id/welcome/detail/140411100005>\r\n",
      "{'Abstrak': None}\n"
     ]
    },
    {
     "name": "stderr",
     "output_type": "stream",
     "text": [
      "2022-12-02 16:34:13 [scrapy.core.scraper] DEBUG: Scraped from <200 https://pta.trunojoyo.ac.id/welcome/detail/140411100003>\r\n",
      "{'Abstrak': None}\n"
     ]
    },
    {
     "name": "stderr",
     "output_type": "stream",
     "text": [
      "2022-12-02 16:34:13 [scrapy.core.engine] DEBUG: Crawled (200) <GET https://pta.trunojoyo.ac.id/welcome/detail/140411100004> (referer: None)\n"
     ]
    },
    {
     "name": "stderr",
     "output_type": "stream",
     "text": [
      "2022-12-02 16:34:13 [scrapy.core.scraper] DEBUG: Scraped from <200 https://pta.trunojoyo.ac.id/welcome/detail/140411100004>\r\n",
      "{'Abstrak': None}\n"
     ]
    },
    {
     "name": "stderr",
     "output_type": "stream",
     "text": [
      "2022-12-02 16:34:13 [scrapy.core.engine] DEBUG: Crawled (200) <GET https://pta.trunojoyo.ac.id/welcome/detail/140411100010> (referer: None)\n"
     ]
    },
    {
     "name": "stderr",
     "output_type": "stream",
     "text": [
      "2022-12-02 16:34:13 [scrapy.core.engine] DEBUG: Crawled (200) <GET https://pta.trunojoyo.ac.id/welcome/detail/140411100009> (referer: None)\n"
     ]
    },
    {
     "name": "stderr",
     "output_type": "stream",
     "text": [
      "2022-12-02 16:34:13 [scrapy.core.scraper] DEBUG: Scraped from <200 https://pta.trunojoyo.ac.id/welcome/detail/140411100010>\r\n",
      "{'Abstrak': 'Sistem rekomendasi adalah sistem yang digunakan untuk merekomendasikan sesuatu item, misalnya merekomendasikan film. Banyaknya informasi film di internet membuat kita kesulitan dalam memilih film yang sesuai dengan selera. Untuk itu sistem rekomendasi film ini dibutuhkan oleh masyarakat. Sistem rekomendasi ini membutuhkan data  rating dari movielens. Pemilihan metode sangat mempengaruhi keberhasilan sistem. Semakin akurat sistem yang dibuat maka semakin bagus. Metode yang populer saat ini adalah collaborative filtering khususnya metode collaborative filtering tradisional. Namun metode ini memiliki masalah skalabilitas sehingga untuk mengatasinya perlu ditambahkan metode clustering. Pada penelitian  sebelumnya ada yang menggunakan metode k-means clustering dan user-based collaborative filtering. Collaborative filtering terdiri dari user-based dan item-based collaborative filtering. Pada penelitian lain menyebutkan bahwa metode item-based lebih akurat daripada metode  user-based collaborative filtering. Untuk itu pada penelitian ini menggunakan metode k-means clustering dan item-based collaborative filtering. Hasil dari uji coba yang dilakukan menunjukkan bahwa metode pada penelitin ini lebih akurat daripada user-based dan item-based collaborative filtering. Presentase kenaikan akurasi metode yang diteliti dengan user-based adalah 113% sedangkan bila dibandingkan dengan item-based collaborative filtering kenaikan akurasinya adalah 168%. Metode yang diteliti juga lebih  akurat dibandingkan metode gabungan user clustering dan user-based collaborative filtering dengan kenaikan akurasi sebesar 27%.\\nKata kunci: Film, Sistem Rekomendasi, Item Clustering, Item-Based Collaborative Filtering.\\n'}\n"
     ]
    },
    {
     "name": "stderr",
     "output_type": "stream",
     "text": [
      "2022-12-02 16:34:13 [scrapy.core.scraper] DEBUG: Scraped from <200 https://pta.trunojoyo.ac.id/welcome/detail/140411100009>\r\n",
      "{'Abstrak': 'Pada saat ini proses sistem pencatatan serta pembuatan laporan keuangan pada UKM masih dilakukan secara manual. Pembuatan laporan keuangan yang dilakukan secara m anual memiliki resiko kesalahan perhitungan yang tinggi dalam perhitungan laba rugi dan neraca. Oleh karenanya di butuhkan bantuan teknologi berupa Sistem Akuntansi pada UKM yang dapat mengatasi kesalahan perhitungan tersebut. Semakin berkembangnya teknologi pada saat ini, telah banyak teknologi yang telah di kembangkan baik hardware maupun software. Meskipun banyak teknologi yang sudah canggih, masalah performa masih sering ditemukan. Salah satu contoh teknologi yang sering ditemukannya masalah performa adalah website. Performa pada website dapat berpengaruh pada pengunjung website itu sendiri. Apabila performa website kurang baik dapat memunculkan pendapat kurang baik oleh pengunjung. Maka dari itu membandingkan sebuah teknologi yang terbaru dapat menjadi solusi untuk mengetahui teknologi mana yang paling tepat untuk membangun sebuah website dengan performa yang baik. Teknologi yang digunakan untuk perbandingan yaitu PHP berarsitektur MVC dan PHP tidak berarsitektur. Dimana PHP tidak berarsitektur merupakan teknologi lama dan PHP berarsitektur MVC merupakan penerapan teknologi baru. Dari hasil pengujian yang telah dilakukan dapat disimpulkan bahwa arsitektur PHP tidak berasitektur MVC memiliki performa lebih baik dan penggunaan memori yang lebih kecil. \\nKeyword : Performa Sistem, PHP Native, PHP MVC, Apache Benchmark, Sistem Akuntansi.\\n'}\n"
     ]
    },
    {
     "name": "stderr",
     "output_type": "stream",
     "text": [
      "2022-12-02 16:34:14 [scrapy.core.engine] DEBUG: Crawled (200) <GET https://pta.trunojoyo.ac.id/welcome/detail/140411100008> (referer: None)\n"
     ]
    },
    {
     "name": "stderr",
     "output_type": "stream",
     "text": [
      "2022-12-02 16:34:14 [scrapy.core.engine] DEBUG: Crawled (200) <GET https://pta.trunojoyo.ac.id/welcome/detail/140411100011> (referer: None)\n"
     ]
    },
    {
     "name": "stderr",
     "output_type": "stream",
     "text": [
      "2022-12-02 16:34:14 [scrapy.core.scraper] DEBUG: Scraped from <200 https://pta.trunojoyo.ac.id/welcome/detail/140411100008>\r\n",
      "{'Abstrak': 'Penginputan dan pengolahan data anggota Jaminan Kesehatan Daerah (JAMKESDA) Rumah Sakit Bangkalan saat ini masih dilakukan secara manual dan tersimpan dalam bentuk berkas (hardcopy) serta disimpan dalam rak. Hal ini menyulitkan admin ketika melakukan pencarian data anggota dan membutuhkan waktu yang lama. Untuk pendaftaran Kartu Indonesia Sehat (KIS) saat ini masih daftar di Rumah Sakit sehingga pasien harus datang ke tempat dan mengisi formulir. Selain itu, kelemahan lainnya adalah apabila rekap data hilang atau berkas mudah rusak maka akan merugikan Jaminan Kesehatan Daerah (Jamkesda) serta admin harus melakukan penginputan serta pengolahan data kembali. Untuk mengurangi kendala tersebut, maka diberilah solusi dengan menerapkan sistem informasi berbasis web. Seiring dengan perkembangan teknologi web yang semakin pesat, muncullah istilah Framework. Framework adalah kerangka kerja yang dapat membantu pengembangan aplikasi dalam menangani berbagai masalah - masalah pemrograman seperti koneksi ke database serta pemanggilan variabel dan file, sehingga developer lebih fokus dan lebih cepat untuk membangun aplikasi.Salah satu contoh Framework yang dapat digunakan yaitu laravel.'}\n"
     ]
    },
    {
     "name": "stderr",
     "output_type": "stream",
     "text": [
      "2022-12-02 16:34:14 [scrapy.core.scraper] DEBUG: Scraped from <200 https://pta.trunojoyo.ac.id/welcome/detail/140411100011>\r\n",
      "{'Abstrak': 'Pegawai adalah aset yang sangat penting dalam suatu organisasi. Guna memberi penghargaan dan sebagai motivasi kepada pegawai yang ada, maka dibuatlah sebuah sistem rekomendasi kenaikan jabatan terhadap Jabatan Fungsional Pengawas Dinas Inspektorat Kabupaten Bangkalan. Sistem ini dibuat menggunakan metode perhitungan AHP(Analytical Hierarchy Process). AHP menghasilkan sebuah rangking yang didapat dari membandingkan setiap kriteria dan juga alternatif dalam hal ini bakal calon yang akan diberikan kenaikan jabatan. AHP merupakan suatu metode dengan melakukan perbandingan berpasangan antara kriteria pilihan dan juga perbandingan berpasangan antara pilihan yang ada. Permasalahan pengambilan keputusan dengan AHP umumnya dikomposisikan menjadi kriteria, dan alternative pilihan. Hasil dari implementasi metode AHP dalam memberikan rekomendasi kenaikan jenjang jabatan, setelah dilakukan 4 kali uji rekomendasi maka didapat hasil rata-rata akurasi sebesar 86,25 %. Dengan demikian implementasi metode AHP dalam rekomendasi kenaikan jabatan menunjukkan bahwa hasil rekomendasi adalah “baik”.'}\n"
     ]
    },
    {
     "name": "stderr",
     "output_type": "stream",
     "text": [
      "2022-12-02 16:34:14 [scrapy.core.engine] DEBUG: Crawled (200) <GET https://pta.trunojoyo.ac.id/welcome/detail/140411100012> (referer: None)\n"
     ]
    },
    {
     "name": "stderr",
     "output_type": "stream",
     "text": [
      "2022-12-02 16:34:14 [scrapy.core.engine] DEBUG: Crawled (200) <GET https://pta.trunojoyo.ac.id/welcome/detail/140411100001> (referer: None)\n"
     ]
    },
    {
     "name": "stderr",
     "output_type": "stream",
     "text": [
      "2022-12-02 16:34:14 [scrapy.core.scraper] DEBUG: Scraped from <200 https://pta.trunojoyo.ac.id/welcome/detail/140411100012>\r\n",
      "{'Abstrak': None}\n"
     ]
    },
    {
     "name": "stderr",
     "output_type": "stream",
     "text": [
      "2022-12-02 16:34:14 [scrapy.core.scraper] DEBUG: Scraped from <200 https://pta.trunojoyo.ac.id/welcome/detail/140411100001>\r\n",
      "{'Abstrak': None}\n"
     ]
    },
    {
     "name": "stderr",
     "output_type": "stream",
     "text": [
      "2022-12-02 16:34:14 [scrapy.core.engine] DEBUG: Crawled (200) <GET https://pta.trunojoyo.ac.id/welcome/detail/140411100013> (referer: None)\n"
     ]
    },
    {
     "name": "stderr",
     "output_type": "stream",
     "text": [
      "2022-12-02 16:34:15 [scrapy.core.engine] DEBUG: Crawled (200) <GET https://pta.trunojoyo.ac.id/welcome/detail/140411100014> (referer: None)\n"
     ]
    },
    {
     "name": "stderr",
     "output_type": "stream",
     "text": [
      "2022-12-02 16:34:15 [scrapy.core.scraper] DEBUG: Scraped from <200 https://pta.trunojoyo.ac.id/welcome/detail/140411100013>\r\n",
      "{'Abstrak': 'Sistem rekomendasi merupakan sebuah sistem yang dibuat dengan tujuan memberikan sebuah rekomendasi item kepada user. Salah satu model pendekatan sistem rekomendasi yang sering digunakan adalah Collaborative Filtering (CF), dengan pendekatan item-based. Model ini memberikan hasil rekomendasi yang cukup baik, namun item-based CF tidak memanfaatkan atribut item dalam perhitungan rekomendasinya. Penerapan atribut item dapat dilakukan dengan dua cara, yaitu dengan satu tahap permodelan dan dua tahap permodelan. Satu tahap permodelan menghasilkan kualitas rekomendasi tidak terlalu signifikan (kurang baik). Cara yang kedua adalah dua tahap permodelan, candidate rekomendasi dan tahap re-ordering. Misal, tahap candidate rekomendasi menggunakan pendekatan collaborative filtering, dan re ordering dilakukan content-basedatau naïve bayes. Pada penelitian sebelumnya sudah dilakukan penerapan candidate rekomendasi menggunakan collaborative filtering, dan re ordering dengan naive bayes pada data tagging menghasikan rekomendasi yang baik. Oleh sebab itu pada penelitian ini penulis mencoba menerapkan dua tahap permodelan candidate ranking dengan collaborative filtering, dan re-ordering menggunakan nave bayes. dengan study kasus movie atribut genre pada data explicit (2 dimensi) . Dari hasil percobaan mendapatkan nilai yang cukup baik, dengan kenaikan nilai akurasi yang dihasilkan metode evaluasi NDCG sebesar 40.94486%.\\nKata kunci: Sistem Rekomendasi, Item-Based Collaborative Filtering, Naive Bayes, NDCG, Probabilistic Ranking. '}\n"
     ]
    },
    {
     "name": "stderr",
     "output_type": "stream",
     "text": [
      "2022-12-02 16:34:15 [scrapy.core.scraper] DEBUG: Scraped from <200 https://pta.trunojoyo.ac.id/welcome/detail/140411100014>\r\n",
      "{'Abstrak': None}\n"
     ]
    },
    {
     "name": "stderr",
     "output_type": "stream",
     "text": [
      "2022-12-02 16:34:15 [scrapy.core.engine] DEBUG: Crawled (200) <GET https://pta.trunojoyo.ac.id/welcome/detail/140411100002> (referer: None)\n"
     ]
    },
    {
     "name": "stderr",
     "output_type": "stream",
     "text": [
      "2022-12-02 16:34:15 [scrapy.core.scraper] DEBUG: Scraped from <200 https://pta.trunojoyo.ac.id/welcome/detail/140411100002>\r\n",
      "{'Abstrak': None}\n"
     ]
    },
    {
     "name": "stderr",
     "output_type": "stream",
     "text": [
      "2022-12-02 16:34:15 [scrapy.core.engine] DEBUG: Crawled (200) <GET https://pta.trunojoyo.ac.id/welcome/detail/140411100017> (referer: None)\n"
     ]
    },
    {
     "name": "stderr",
     "output_type": "stream",
     "text": [
      "2022-12-02 16:34:15 [scrapy.core.engine] DEBUG: Crawled (200) <GET https://pta.trunojoyo.ac.id/welcome/detail/140411100015> (referer: None)\n"
     ]
    },
    {
     "name": "stderr",
     "output_type": "stream",
     "text": [
      "2022-12-02 16:34:15 [scrapy.core.engine] DEBUG: Crawled (200) <GET https://pta.trunojoyo.ac.id/welcome/detail/140411100019> (referer: None)\n"
     ]
    },
    {
     "name": "stderr",
     "output_type": "stream",
     "text": [
      "2022-12-02 16:34:15 [scrapy.core.scraper] DEBUG: Scraped from <200 https://pta.trunojoyo.ac.id/welcome/detail/140411100017>\r\n",
      "{'Abstrak': 'Universitas Trunojoyo Madura merupakan salah satu universitas negeri yang banyak diminati mahasiswa untuk melanjutkan studi mereka ke tahap sarjana. Kebanyakan mahasiswa baru berasal dari luar kota, sehingga belum mengenal daerah sekitar Universitas Trunojoyo Madura. Seiring bertambahnya mahasiswa pendatang baru tersebut menyebabkan kebutuhan rumah kost meningkat, oleh karena itu dibutuhkannya sebuah sistem rekomendasi rumah kost untuk mempermudah mahasiswa dalam menentukan pilihan sesuai kebutuhan mereka. Sistem rekomendasi yang akan diusulkan pada penelitian ini ialah menggunakan metode k-means clustering untuk mengelompokkan data menjadi beberapa kelompok yang berbeda. Selain menggunakan metode k-means clustering, sistem rekomendasi menyediakan sistem berbasis mobile yang didukung dengan google maps untuk mempermudah mahasiswa pendatang baru mengetahui lokasi sekitar Universitas Trunojoyo Madura. Penelitan ini diharapkan dapat merekomendasikan beberapa item kepada mahasiswa yaitu item rumah kost dengan beberapa parameter seperti harga kost, jenis kost, kamar mandi dalam, kamar mandi luar, kulkas, dapur, tv, kipas angina, gratis wi-fi, gratis listrik dan jarak kost ke Universitas Trunojoyo Madura. Berdasarkan hasil implementasi metode K-means Clustering untuk rekomendasi rumah kost diperoleh akurasi persentase pengujian system(P) didapatkan 81.67%, sedangkan persentase pengujian akurasi(Q) didapatkan 79.53 %. Dengan begitu metode k-means clustering telah memberikan tingkat akurasi yang cukup tinggi dan layak untuk diaplikasikan.\\n\\nKata kunci: Rumah Kost, Sistem Rekomendasi, K-means Clustering, Mobile\\n \\n'}\n"
     ]
    },
    {
     "name": "stderr",
     "output_type": "stream",
     "text": [
      "2022-12-02 16:34:15 [scrapy.core.scraper] DEBUG: Scraped from <200 https://pta.trunojoyo.ac.id/welcome/detail/140411100015>\r\n",
      "{'Abstrak': None}\n"
     ]
    },
    {
     "name": "stderr",
     "output_type": "stream",
     "text": [
      "2022-12-02 16:34:15 [scrapy.core.engine] DEBUG: Crawled (200) <GET https://pta.trunojoyo.ac.id/welcome/detail/140411100018> (referer: None)\n"
     ]
    },
    {
     "name": "stderr",
     "output_type": "stream",
     "text": [
      "2022-12-02 16:34:15 [scrapy.core.scraper] DEBUG: Scraped from <200 https://pta.trunojoyo.ac.id/welcome/detail/140411100019>\r\n",
      "{'Abstrak': None}\n"
     ]
    },
    {
     "name": "stderr",
     "output_type": "stream",
     "text": [
      "2022-12-02 16:34:15 [scrapy.core.scraper] DEBUG: Scraped from <200 https://pta.trunojoyo.ac.id/welcome/detail/140411100018>\r\n",
      "{'Abstrak': None}\n"
     ]
    },
    {
     "name": "stderr",
     "output_type": "stream",
     "text": [
      "2022-12-02 16:34:16 [scrapy.core.engine] DEBUG: Crawled (200) <GET https://pta.trunojoyo.ac.id/welcome/detail/140411100021> (referer: None)\n"
     ]
    },
    {
     "name": "stderr",
     "output_type": "stream",
     "text": [
      "2022-12-02 16:34:16 [scrapy.core.engine] DEBUG: Crawled (200) <GET https://pta.trunojoyo.ac.id/welcome/detail/140411100020> (referer: None)\n"
     ]
    },
    {
     "name": "stderr",
     "output_type": "stream",
     "text": [
      "2022-12-02 16:34:16 [scrapy.core.scraper] DEBUG: Scraped from <200 https://pta.trunojoyo.ac.id/welcome/detail/140411100021>\r\n",
      "{'Abstrak': None}\n"
     ]
    },
    {
     "name": "stderr",
     "output_type": "stream",
     "text": [
      "2022-12-02 16:34:16 [scrapy.core.engine] DEBUG: Crawled (200) <GET https://pta.trunojoyo.ac.id/welcome/detail/140411100016> (referer: None)\n"
     ]
    },
    {
     "name": "stderr",
     "output_type": "stream",
     "text": [
      "2022-12-02 16:34:16 [scrapy.core.engine] DEBUG: Crawled (200) <GET https://pta.trunojoyo.ac.id/welcome/detail/140411100022> (referer: None)\n"
     ]
    },
    {
     "name": "stderr",
     "output_type": "stream",
     "text": [
      "2022-12-02 16:34:16 [scrapy.core.scraper] DEBUG: Scraped from <200 https://pta.trunojoyo.ac.id/welcome/detail/140411100020>\r\n",
      "{'Abstrak': 'Bahan baku merupakan hal utama didalam perusahaan, terutama perusahaan industri, karena bahan baku merupakan bagian dari suatu proses produksi yang harus ada dan tidak dapat diabaikan keberadaannya. UD. Budi Jaya adalah perusahaan makanan khususnya cemilan yang bahan baku utamanya adalah buah salak. Di lokasi  terdapat perkebunan salak milik perusahaan danmenjadi sumber bahan baku yang dimana pohon berbuah hanya pada musimnya. Tetapi, saat pohon tidak dalam masa panenmenyebabkan  perusahaan harus membeli buah salak pada penyedia lain yang dimana perusahaan mengeluarkan modal  lebih untuk membeli bahan baku. Oleh karena itu, Penelitian ini bertujuan untuk dapat mengendalikan bahan baku, dengan menerapkan metode Economic Order Quantity yang dimana metode tersebut membantu perusahaan untuk memanajemen bahan baku salak. Dan Metode Single Exponential Smoothing untuk mendukung perhitungan Eqonomic Order Qunatity. Berdasarkan hasil penelitian yang dilakukan di UD.Budi Jaya, bahwa dengen menggunakan metode Economic Order Quantity menghasilkan kebutuhan bahan baku yang lebih efisien.Pada tahun 2014, perusahaan bisa meminimalisir bahan baku salak sebesar 662,2 kg, tahun 2015 sebesar 351,6 kg, tahun 2016 sebesar 628,3 kg, dan tahun 2017 sebesar 589,3 kg. biaya pembelian bahan baku dapat diminimalisir Pada tahun 2014 sebesar Rp. 1.409.618, tahun 2015 sebesar Rp. 2.312.449, tahun 2016 sebesar Rp. 2.596.150, dan tahun 2017 sebesar Rp. 2.496.757.'}\n"
     ]
    },
    {
     "name": "stderr",
     "output_type": "stream",
     "text": [
      "2022-12-02 16:34:16 [scrapy.core.scraper] DEBUG: Scraped from <200 https://pta.trunojoyo.ac.id/welcome/detail/140411100016>\r\n",
      "{'Abstrak': 'Padi merupakan tanaman pangan yang diamati oleh Dinas Pertanian dan paling banyak terserang penyakit. Dalam penanganannya terdapat beberapa kendala diantaranya keberadaan organisme pengganggu tanaman (OPT) yang semakin meningkat. Keberadaan OPT seperti penggerek batang, tikus, penyakit blas, dsb, dapat menyebabkan kerusakan mutlak dan kerusakan tidak mutlak. Namun untuk mengetahui intensitas kerusakan mutlak dan kerusakan tidak mutlak yang diamati, petugas lapangan melakukan perhitungan dengan cara tradisional tanpa adanya system dan belum adanya pemetaan yang digunakan sebagai alat pendukung pengendalian serangan OPT. Oleh karena itu, perlu dibuatkan sistem pemetaan intensitas kerusakan berdasarkan serangan OPT. Dari hasil penelitian yang telah dilakukan dapat diketahui bahwa sistem ini dapat membantu pihak petugas lapangan untuk mengetahui intensitas kerusakanan dan mengetahui pemetaan intensitas kerusakan sebagai media informasi untuk memberikan kebijakan pengendalian serangan OPT. Berdasarkan hasil uji coba sistem dengan melakukan kuisioner untuk mengetahui kelayakan sistem, maka didapat hasil kuisioner kelayakan bagi petugas dan admin sebesar 82%, sedangkan hasil kuisioner kelayakan bagi masyarakat (umum) sebesar 83%. Sehingga dapat disimpulkan bahwa hasil dari kedua kuisioner memiliki tingkat kelayakan dalam mengetahui hasil intensitas kerusakan dan pemetaan intensitas kerusakan.'}\n"
     ]
    },
    {
     "name": "stderr",
     "output_type": "stream",
     "text": [
      "2022-12-02 16:34:16 [scrapy.core.scraper] DEBUG: Scraped from <200 https://pta.trunojoyo.ac.id/welcome/detail/140411100022>\r\n",
      "{'Abstrak': 'Demam Berdarah Dengue (DBD) merupakan penyakit yang dapat membuat suhu tubuh penderita menjadi sangat tinggi dan pada umumnya disertai tanda gejala seperti sakit kepala, nyeri sendi, otot, dan tulang, serta nyeri di bagian belakang mata. Penyakit Demam Berdarah Dengue disebabkan oleh virus dengue yang penyebarannya terjadi melalui gigitan nyamuk Aedes aegypti dan Aedes albopictus. Dalam hal ini, untuk diagnosis dibutuhkan analisa yang akurat untuk meminimalisir kesalahan diagnosis yang membuat keterlambatan penanganan. Pada penelitian ini dibuatkan sistem pakar berbasis android untuk mendiagnosis penyakit DBD yang bertujuan sebagai pencegahan lebih awal. Sistem pakar tersebut akan memberikan pilihan gejala-gejala demam berdarah untuk dipilih oleh pengguna. Gejalagejala yang sudah dipilih oleh pengguna akan dihitung menggunakan metode Certainty Factor dan Naive Bayes. Dengan adanya sistem ini diharapkan dapat membantu masyarakat luas dalam melakukan diagnosis demam berdarah lebih cepat. Pengujian sistem dilakukan menggunakan metode K-fold cross validation dengan nilai k = 3. Berdasarkan uji coba menggunakan metode K-fold cross validation menunjukkan bahwa metode Naive Bayes mampu melakukan diagnosis lebih akurat dibandingkan Certainty Factor dengan hasil pengujian sebesar 76,5625 % dan 70,83333333 %. '}\n"
     ]
    },
    {
     "name": "stderr",
     "output_type": "stream",
     "text": [
      "2022-12-02 16:34:17 [scrapy.core.engine] DEBUG: Crawled (200) <GET https://pta.trunojoyo.ac.id/welcome/detail/140411100024> (referer: None)\n"
     ]
    },
    {
     "name": "stderr",
     "output_type": "stream",
     "text": [
      "2022-12-02 16:34:17 [scrapy.core.engine] DEBUG: Crawled (200) <GET https://pta.trunojoyo.ac.id/welcome/detail/140411100023> (referer: None)\n"
     ]
    },
    {
     "name": "stderr",
     "output_type": "stream",
     "text": [
      "2022-12-02 16:34:17 [scrapy.core.scraper] DEBUG: Scraped from <200 https://pta.trunojoyo.ac.id/welcome/detail/140411100024>\r\n",
      "{'Abstrak': 'Garam merupakan komoditas strategis, Provinsi Jawa Timur salah satu pemasok terbesar garam nasional yang sentra produksinya berada di Madura. Madura adalah daerah yang mempunyai potensi untuk produksi garam sehingga dari dulu madura dikenal sebagai pulau garam. Namun tambak garam sebagai lahan untuk  menghasilkan garam tidak semuanya memiliki potensi yang bagus karena memiliki perbedaan dari aspek teknis yang mempengaruhi produktivitas tambak garam,  Untuk mengetahui kelompok tambak garam yang memiliki kesamaan dari aspek teknis. Dilakukan pengelompokan dengan menggunakan analisis cluster. Analsisis cluster adalah pengelompokan suatu objek kedalam kelompok yang lebih kecil dimana masing-masing kelompok memiliki objek kemiripan satu sama lain. proses pengelompokan dilakukan untuk tambak garam yang ada di Jawa Timur dengan menggunakan metode Single Linkage. Metode Single Linkage adalah suatu metode Hierarki yang mengelompokkan suatu objek yang memiliki jarak terdekat terlebih dahulu atau kemiripan yang paling besar. Hal ini dipengaruhi oleh perhitungan jarak menggunakan Euclidian Distance dan  pemetaan memanfaatkan teknologi Sistem Informasi Geografis pada data spasial tambak garam. Clustering Menggunakan Single Linkage dapat diukur menggunakan metode Silhouette Coefficient. Hasil dari penelitian ini menunjukkan nilai Silhouette Coefficient 0.9361 dalam cluster tambak garam di Provinsi Jawa Timur dengan nilai akurasi  93.61% dan dikategorikan strong structure \\n\\nKata kunci : Pemetaan,  Tambak Garam, Single Linkage, Provinsi Jawa Timur\\n'}\n"
     ]
    },
    {
     "name": "stderr",
     "output_type": "stream",
     "text": [
      "2022-12-02 16:34:17 [scrapy.core.engine] DEBUG: Crawled (200) <GET https://pta.trunojoyo.ac.id/welcome/detail/140411100025> (referer: None)\n"
     ]
    },
    {
     "name": "stderr",
     "output_type": "stream",
     "text": [
      "2022-12-02 16:34:17 [scrapy.core.scraper] DEBUG: Scraped from <200 https://pta.trunojoyo.ac.id/welcome/detail/140411100023>\r\n",
      "{'Abstrak': None}\n"
     ]
    },
    {
     "name": "stderr",
     "output_type": "stream",
     "text": [
      "2022-12-02 16:34:17 [scrapy.core.scraper] DEBUG: Scraped from <200 https://pta.trunojoyo.ac.id/welcome/detail/140411100025>\r\n",
      "{'Abstrak': 'Demam berdarah merupakan penyakit berbahaya yang menimbulkan syok yang berujung kematian dalam waktu singkat bila tidak mendapat penanganan dengan cepat. Dalam hal ini, untuk mendiagnosa dibutuhkan analisa yang akurat untuk meminimalisir terhadap kesalahan diagnosa yang membuat lambatnya penanganan terhadap pasien. Dengan demikian dibuatkan suatu sistem pakar deteksi dini penyakit demam berdarah dengue(DBD) metode iterative dichotomiser three( id3) yang dapat membantu calon dokter muda untuk mendiagnosa secara dini penyakit demam berdarah dengue(DBD). Sistem pakar tersebut terdapat pilihan gejala penyakit demam berdarah dengue(DBD) yang bisa dipilih oleh pengguna sesuai dengan yang dirasakan penderita. Setelah itu dari gejala-gejala yang telah dipilih akan dilakukan proses perhitungan menggunakan metode iterative dichotomiser three( id3). Dari proses perhitungan tersebut akan mendapatkan hasil diagnosa berdasarkan tingkat keparahan dari gejala yang telah dipilih. Berdasarkan Hasil Penelitian yang dilakukan dalam pembuatan aplikasi ini, dengan hasil kuisioner yang telah disebar terhadap 20 calon dokter muda diperoleh rata-rata sebanyak 78% yang artinya sistem ini efektif untuk membantu calon dokter muda dalam mendiagnosa penyakit  demam berdarah dengue (dbd) secara dini.'}\n"
     ]
    },
    {
     "name": "stderr",
     "output_type": "stream",
     "text": [
      "2022-12-02 16:34:17 [scrapy.core.engine] DEBUG: Crawled (200) <GET https://pta.trunojoyo.ac.id/welcome/detail/140411100026> (referer: None)\n"
     ]
    },
    {
     "name": "stderr",
     "output_type": "stream",
     "text": [
      "2022-12-02 16:34:17 [scrapy.core.engine] DEBUG: Crawled (200) <GET https://pta.trunojoyo.ac.id/welcome/detail/140411100027> (referer: None)\n"
     ]
    },
    {
     "name": "stderr",
     "output_type": "stream",
     "text": [
      "2022-12-02 16:34:17 [scrapy.core.scraper] DEBUG: Scraped from <200 https://pta.trunojoyo.ac.id/welcome/detail/140411100026>\r\n",
      "{'Abstrak': None}\n"
     ]
    },
    {
     "name": "stderr",
     "output_type": "stream",
     "text": [
      "2022-12-02 16:34:17 [scrapy.core.engine] DEBUG: Crawled (200) <GET https://pta.trunojoyo.ac.id/welcome/detail/140411100028> (referer: None)\n"
     ]
    },
    {
     "name": "stderr",
     "output_type": "stream",
     "text": [
      "2022-12-02 16:34:17 [scrapy.core.engine] DEBUG: Crawled (200) <GET https://pta.trunojoyo.ac.id/welcome/detail/140411100029> (referer: None)\n"
     ]
    },
    {
     "name": "stderr",
     "output_type": "stream",
     "text": [
      "2022-12-02 16:34:18 [scrapy.core.scraper] DEBUG: Scraped from <200 https://pta.trunojoyo.ac.id/welcome/detail/140411100027>\r\n",
      "{'Abstrak': 'Perusahaan harus mampu menyeimbangan produksi gula sesuai dengan permintaan pasar. Karena, jika produksi gula melebihi permintaan pasar akan menyebabkan penumpukkan dan biaya pengeluaran yang melebihi batas. Namun, jika produksi gula terlalu sedikit perusahaan tidak mampu memenuhi permintaan pasar sehingga dapat mengurangi kesempatan perusahaan untuk mendapatkan keuntungan. Untuk itu diperlukan sebuah sistem yang nantinya dapat mempermudah proses peramalan produksi gula. Sistem yang dibangun menggunakan perbandingan 2 metode, yaitu metode Single Exponential Smoothing dan metode Backpropagation. Tujuan dari penelitian ini untuk mengetahui hasil akurasi terbaik menggunakan metode Single Exponential Smoothing dan metode Backpropagation pada peramalan produksi gula. Metode Single  Exponential Smoothing dan Backpropagation digunakan untuk meramalkan jumlah produksi gula untuk satu bulan kedepan berdasarkan data produksi 5 bulan sebelumnya. Dari hasil pengujian yang telah dilakukan, dapat diketahui bahwa metode Backpropagation menghasilkan MSE dan MAPE terkecil, yaitu sebesar 57187817,49 dan MAPE sebesar 1,019593892% dibandingkan metode Single Exponential Smoothing dengan MSE sebesar 83602989,43 dan MAPE  sebesar 1,46412926%. Sehingga metode yang peling tepat untuk peramalan produksi gula yaitu metode Backpropagation.'}\n"
     ]
    },
    {
     "name": "stderr",
     "output_type": "stream",
     "text": [
      "2022-12-02 16:34:18 [scrapy.core.scraper] DEBUG: Scraped from <200 https://pta.trunojoyo.ac.id/welcome/detail/140411100028>\r\n",
      "{'Abstrak': 'Penyakit gigi dan mulut merupakan salah satu masalah kesehatan yang banyak diderita oleh masyarakat Indonesia. Minimnya pengetahuan serta terbatasnya sumber informasi mengenai kesehatan gigi dan mulut menyebabkan kesadaran masyarakat untuk menjaga kesehatan gigi dan mulut masih rendah. Untuk itulah dibutuhkannya sistem indentifikasi penyakit gigi dan mulut dengan mempertimbangkan faktor-faktor tersebut perlu dilakukan. Tujuan dari laporan ini adalah untuk memperoleh sistem identifikasi penyakit gigi dan mulut, dengan menggunakan metode fuzzy c – means.  Pada tahap uji coba penulis membagi data menjadi training dan testing menggunkan k-fold validation. Dari hasil perhitungan akurasi yang menggunakan k-fold cross validation dengan nilai k=5, jumlah iterasi 10, target error 0,0001 serta error awal (P0) 0, pembagian data latih dan data uji menggunakan 5 fold menghasilkan rata-rata akurasi 83.666%'}\n"
     ]
    },
    {
     "name": "stderr",
     "output_type": "stream",
     "text": [
      "2022-12-02 16:34:18 [scrapy.core.scraper] DEBUG: Scraped from <200 https://pta.trunojoyo.ac.id/welcome/detail/140411100029>\r\n",
      "{'Abstrak': None}\n"
     ]
    },
    {
     "name": "stderr",
     "output_type": "stream",
     "text": [
      "2022-12-02 16:34:18 [scrapy.core.engine] DEBUG: Crawled (200) <GET https://pta.trunojoyo.ac.id/welcome/detail/140411100030> (referer: None)\n"
     ]
    },
    {
     "name": "stderr",
     "output_type": "stream",
     "text": [
      "2022-12-02 16:34:18 [scrapy.core.engine] DEBUG: Crawled (200) <GET https://pta.trunojoyo.ac.id/welcome/detail/140411100031> (referer: None)\n"
     ]
    },
    {
     "name": "stderr",
     "output_type": "stream",
     "text": [
      "2022-12-02 16:34:18 [scrapy.core.scraper] DEBUG: Scraped from <200 https://pta.trunojoyo.ac.id/welcome/detail/140411100030>\r\n",
      "{'Abstrak': None}\n"
     ]
    },
    {
     "name": "stderr",
     "output_type": "stream",
     "text": [
      "2022-12-02 16:34:18 [scrapy.core.scraper] DEBUG: Scraped from <200 https://pta.trunojoyo.ac.id/welcome/detail/140411100031>\r\n",
      "{'Abstrak': 'Saat ini perkiraan persediaan air kurang optimal, dimana kadang jumlah air yang diproduksi lebih besar atau lebih kecil dari permintaan. Hal ini tentunya akan menyebabkan terjadinya pemborosan air oleh PDAM Bangkalan ataupun kekurangan air yang dialami oleh konsumen. Kedua permasalahan ini tidak lepas dari kondisi yang ada yaitu terjadinya kehilangan air dan tambahan kompensasi. Untuk itulah dibutuhkannya sistem peramalan ketersediaan air dengan mempertimbangkan faktor-faktor tersebut perlu dilakukan. Tujuan dari laporan ini adalah untuk memperoleh sistem peramalan yang akurat yang dapat membantu produksi air di masa depan agar tidak terjadi pemborosan dan kekurangan air. Metode penelitian yang digunakan untuk peramalan adalah metode Jaringan Syaraf Tiruan Backpropagation. Pada tahap uji coba dilakukan pengujian untuk mendapatkan jumlah iterasi, learning rate, data latih dan data uji, dan maksimal error yang optimal. Berdasarkan hasil penelitian ini didapatkan bahwa Peramalan Produksi Air PDAM Bangkalan dengan metode Backpropagation menghasilkan akurasi yang cukup tinggi dengan menggunakan variabel jumlah pelanggan, volume distribusi air, volume air terjual, volume kehilangan air dan volume produksi air. Akurasi tertinggi yang diperoleh adalah 98% dengan parameter terbaik adalah learning rate (alpha) 0,9 , jumlah iterasi 10000, max error 0,0001 dan pembagian data latih dan data uji menggunakan 5 Fold Cross Validation menghasilkan rata-rata akurasi 83%.\\nKata kunci : Produksi Air, Peramalan,  Jaringan Syaraf Tiruan (JST), Backpropagation.\\n'}\n"
     ]
    },
    {
     "name": "stderr",
     "output_type": "stream",
     "text": [
      "2022-12-02 16:34:18 [scrapy.core.engine] DEBUG: Crawled (200) <GET https://pta.trunojoyo.ac.id/welcome/detail/140411100032> (referer: None)\n"
     ]
    },
    {
     "name": "stderr",
     "output_type": "stream",
     "text": [
      "2022-12-02 16:34:18 [scrapy.core.scraper] DEBUG: Scraped from <200 https://pta.trunojoyo.ac.id/welcome/detail/140411100032>\r\n",
      "{'Abstrak': 'Penyakit pada gigi dan mulut merupakan suatu masalah kesehatan yang sering dialami oleh masyarakat Indonesia dari yang tua maupun muda. Minimnya pengetahuan serta terbatasnya sumber informasi mengenai penyakit gigi dan mulut masih rendah. Hal ini diperoleh dari besarnya angka penyakit gigi dan mulut di Nusantara ini yang semakin meningkat. Untuk mengobati sakit gigi tentu tidak bisa di obati dengan sembarangan, harus dengan yang ahli yaitu Dokter Gigi. Seiring terjadinya masalah pada gigi, ini akan berdampak juga kepada para dokter gigi, dikarenakan masalah ini bisa menyebabkan meningkatnya jumlah pasien, berangkat dari hal masalah ini,maka penulis membuat sesuatu Sistem Pendukung Keputusan Gejala Penyakit Gigi dan Mulut untuk mendapatkan hasil diagnosa awal penyakit gigi dan mulut berbasis website. Sistem pendukung keputusan ini bertujuan bukan untuk menggantikan profesi dari Dokter Gigi ini sendiri, dikarenakan hasil dari sistem pendukung keputusan ini  hanya sebagai  rekomendasi, Pada penelitian ini mengimplementasikan metode Simple Additive Weighting  dengan menggunakan 40 data yang didapatkan dari Pos Kesehatan yang bertempat di Bangkalan, dan sistem ini  menghasilkan nilai akurasi kecocokan rata-rata sebesar 77,5% . '}\n"
     ]
    },
    {
     "name": "stderr",
     "output_type": "stream",
     "text": [
      "2022-12-02 16:34:19 [scrapy.core.engine] DEBUG: Crawled (200) <GET https://pta.trunojoyo.ac.id/welcome/detail/140411100033> (referer: None)\n"
     ]
    },
    {
     "name": "stderr",
     "output_type": "stream",
     "text": [
      "2022-12-02 16:34:19 [scrapy.core.engine] DEBUG: Crawled (200) <GET https://pta.trunojoyo.ac.id/welcome/detail/140411100036> (referer: None)\n"
     ]
    },
    {
     "name": "stderr",
     "output_type": "stream",
     "text": [
      "2022-12-02 16:34:19 [scrapy.core.engine] DEBUG: Crawled (200) <GET https://pta.trunojoyo.ac.id/welcome/detail/140411100034> (referer: None)\n"
     ]
    },
    {
     "name": "stderr",
     "output_type": "stream",
     "text": [
      "2022-12-02 16:34:19 [scrapy.core.scraper] DEBUG: Scraped from <200 https://pta.trunojoyo.ac.id/welcome/detail/140411100033>\r\n",
      "{'Abstrak': None}\n"
     ]
    },
    {
     "name": "stderr",
     "output_type": "stream",
     "text": [
      "2022-12-02 16:34:19 [scrapy.core.engine] DEBUG: Crawled (200) <GET https://pta.trunojoyo.ac.id/welcome/detail/140411100037> (referer: None)\n"
     ]
    },
    {
     "name": "stderr",
     "output_type": "stream",
     "text": [
      "2022-12-02 16:34:19 [scrapy.core.scraper] DEBUG: Scraped from <200 https://pta.trunojoyo.ac.id/welcome/detail/140411100036>\r\n",
      "{'Abstrak': None}\n"
     ]
    },
    {
     "name": "stderr",
     "output_type": "stream",
     "text": [
      "2022-12-02 16:34:19 [scrapy.core.scraper] DEBUG: Scraped from <200 https://pta.trunojoyo.ac.id/welcome/detail/140411100034>\r\n",
      "{'Abstrak': '\\n Segmentasi citra merupakan tahapan terpenting dalam memperbaiki pengenalan pola, dimana segmentasi digunakan untuk mengenali objek dari suatu citra. Segmentasi gambar bertujuan untuk membagi prosedur citra menjadi beberapa bagian pokok penyusun citra. Sehingga penelitian segmentasi ini hanya akan membagi dua bagian dari citra yakni bagian objek foreground dan background. Dimana algoritma pengolahan citra digital yang digunakan yaitu contras stretching dengan Segmentasi menggunakan metode K-means clustering yang digunakan untuk proses segmentasi dan pengurangan noise background dimana untuk menghasilkan tingkat keakuratan yang lebih baik dalam mengidentifikasi objek utama dengan background dinamis.  Pada proses pengujian digunakan 100 citra dataset fish, hasil akurasi tertinggi dari penggabungan kedua metode menghasilkan akurasi paling tinggi yaitu 99.38 %.\\n\\n\\nKata kunci: contrast stretchhing, K-means Clustering, Segmentasi citra \\n\\n\\n\\n\\n'}\n"
     ]
    },
    {
     "name": "stderr",
     "output_type": "stream",
     "text": [
      "2022-12-02 16:34:19 [scrapy.core.scraper] DEBUG: Scraped from <200 https://pta.trunojoyo.ac.id/welcome/detail/140411100037>\r\n",
      "{'Abstrak': 'Bagi manusia, pengenalan obyek pada citra merupakan hal yang sangat mudah. Akan tetapi, untuk pengenalan obyek citra menggunakan mesin, tidaklah mudah. Mesin harus membaca setiap nilai pixel dari citra masukan dan menghasilkan sebuah nilai untuk menentukan kelas citra tersebut. Penelitian ini menggunakan metode Convolutional Neural Network (CNN) untuk pengenalan obyek pada citra. Metode ini tidak memerlukan feature engineering. Pada CNN terdapat beberapa layer seperti, Convolution Layer, Pooling Layer dan Fully Connected.  Dataset yang digunakan untuk pelatihan adalah dataset citra CIFAR10. Dataset CIFAR10 memiliki citra sebanyak 60000 terdiri dari 10 kelas. Untuk mempermudah pembuatan aplikasi menggunakan framework deep learning theano. Penelitian bertujuan untuk mengetahui dampak dari ukuran filter dan kedalaman layer pada CNN. Hasil yang didapat pada penelitian ini adalah dengan ukuran filter lebih besar, dapat menambah tingkat akurasi. Akurasi tertinggi untuk penelitian ini adalah 62.23%.'}\n"
     ]
    },
    {
     "name": "stderr",
     "output_type": "stream",
     "text": [
      "2022-12-02 16:34:19 [scrapy.core.engine] DEBUG: Crawled (200) <GET https://pta.trunojoyo.ac.id/welcome/detail/140411100035> (referer: None)\n"
     ]
    },
    {
     "name": "stderr",
     "output_type": "stream",
     "text": [
      "2022-12-02 16:34:20 [scrapy.core.engine] DEBUG: Crawled (200) <GET https://pta.trunojoyo.ac.id/welcome/detail/140411100039> (referer: None)\n"
     ]
    },
    {
     "name": "stderr",
     "output_type": "stream",
     "text": [
      "2022-12-02 16:34:20 [scrapy.core.engine] DEBUG: Crawled (200) <GET https://pta.trunojoyo.ac.id/welcome/detail/140411100040> (referer: None)\n"
     ]
    },
    {
     "name": "stderr",
     "output_type": "stream",
     "text": [
      "2022-12-02 16:34:20 [scrapy.core.scraper] DEBUG: Scraped from <200 https://pta.trunojoyo.ac.id/welcome/detail/140411100035>\r\n",
      "{'Abstrak': None}\n"
     ]
    },
    {
     "name": "stderr",
     "output_type": "stream",
     "text": [
      "2022-12-02 16:34:20 [scrapy.core.engine] DEBUG: Crawled (200) <GET https://pta.trunojoyo.ac.id/welcome/detail/140411100038> (referer: None)\n"
     ]
    },
    {
     "name": "stderr",
     "output_type": "stream",
     "text": [
      "2022-12-02 16:34:20 [scrapy.core.scraper] DEBUG: Scraped from <200 https://pta.trunojoyo.ac.id/welcome/detail/140411100039>\r\n",
      "{'Abstrak': 'Menurut World Health Organization penyakit ginjal berada pada urutan 18 dunia sebagai penyakit yang mematikan pada tahun 2000 dan meningkat pada urutan 12 pada tahun 2015. Di Indonesia penyakit ginjal kronis tercatat sebagai ranking kedua sebagai pembiayaan terbesar oleh BPJS setelah penyakit jantung. Penyakit ginjal kronis merupakan masalah kesehatan dunia yang sangat serius. Prevalensi dan kejadian penyakit ginjal kronis kian hari kian meningkat. Pasalnya 1 dari 10 orang di dunia cenderung memiliki penyakit ginjal kronis dengan stadium tertentu. Seorang lansia cenderung memiliki penyakit ginjal kronis, lebih dari setengah dari orang yang berumur 75 tahun memiliki tingkat gagal ginjal kronis tertentu. Terdapat 24 atribut untuk mengetahui seseorang terserang penyakit gunjal kronis. Kemudian data berupa atribut tersebut diproses menggunakan seleksi fitur dengan metode Information Gain. Hasil dari seleksi fitur dengan Information Gain tersebut dirangking dan dilakukan proses klasifikasi dengan menggunakan metode Regresi Logistik. Dengan menggunakan metode ini menghasilkan hasil tertinggi dalam kategori akurasi dengan nilai 96.0%yaitu pada percobaan ke 7, hasil tertinggi dalam kategori recall dengan nilai 80.0% yaitu pada percobaan ke 2 dan hasil tertinggi dalam kategori precision dengan nilai 80.0% yaitu pada percobaan ke 15. Hal ini menunjukkan bahwa penelitian ini memiliki akurasi yang lumayan tinggi.\\n\\nKata kunci : seleksi fitur, klasifikasi, Regresi Logistik, Information Gain\\n'}\n"
     ]
    },
    {
     "name": "stderr",
     "output_type": "stream",
     "text": [
      "2022-12-02 16:34:20 [scrapy.core.scraper] DEBUG: Scraped from <200 https://pta.trunojoyo.ac.id/welcome/detail/140411100040>\r\n",
      "{'Abstrak': None}\n"
     ]
    },
    {
     "name": "stderr",
     "output_type": "stream",
     "text": [
      "2022-12-02 16:34:20 [scrapy.core.scraper] DEBUG: Scraped from <200 https://pta.trunojoyo.ac.id/welcome/detail/140411100038>\r\n",
      "{'Abstrak': None}\n"
     ]
    },
    {
     "name": "stderr",
     "output_type": "stream",
     "text": [
      "2022-12-02 16:34:20 [scrapy.core.engine] DEBUG: Crawled (200) <GET https://pta.trunojoyo.ac.id/welcome/detail/140411100041> (referer: None)\n"
     ]
    },
    {
     "name": "stderr",
     "output_type": "stream",
     "text": [
      "2022-12-02 16:34:20 [scrapy.core.engine] DEBUG: Crawled (200) <GET https://pta.trunojoyo.ac.id/welcome/detail/140411100043> (referer: None)\n"
     ]
    },
    {
     "name": "stderr",
     "output_type": "stream",
     "text": [
      "2022-12-02 16:34:20 [scrapy.core.engine] DEBUG: Crawled (200) <GET https://pta.trunojoyo.ac.id/welcome/detail/140411100044> (referer: None)\n"
     ]
    },
    {
     "name": "stderr",
     "output_type": "stream",
     "text": [
      "2022-12-02 16:34:20 [scrapy.core.scraper] DEBUG: Scraped from <200 https://pta.trunojoyo.ac.id/welcome/detail/140411100041>\r\n",
      "{'Abstrak': 'Deteksi teks adalah proses mendeteksi teks yang ada dalam gambar, diikuti dengan mengelilinginya dengan kotak pembatas persegi panjang. Deteksi teks dapat dilakukan menggunakan teknik berbasis gambar atau teknik berbasis frekuensi. Banyak aplikasi membutuhkan deteksi teks pada gambar mulai dari deteksi otomatis rambu-rambu lalu lintas yang membantu dalam system transportasi, membantu orang tunanetra dan lain-lain. Pada penelitian ini data yang digunakan merupakan dataset focused Scene Text dengan gambar yang digunakan ukuran 640 x 480 pixel dengan format .jpg. Metode yang digunakan untuk mendeteksi teks pada gambar adalah Fast Fourier Transform (FFT) penggunaan metode fast fourier transform bertujuan meminimalkan kebutuhan memori pada citra digital, dan sejauh mana tingkat penurunan kualitas sebuah citra digital dan ukuran filenya jika dikenakan sebuah proses kompresi menggunakan metode FFT. Hasil rata-rata penelitian ini adalah precision adalah 0.44, recall 0.95 dan f1 score 0.55.'}\n"
     ]
    },
    {
     "name": "stderr",
     "output_type": "stream",
     "text": [
      "2022-12-02 16:34:20 [scrapy.core.scraper] DEBUG: Scraped from <200 https://pta.trunojoyo.ac.id/welcome/detail/140411100043>\r\n",
      "{'Abstrak': 'Manajemen berkas dosen dalam dunia pendidikan formal universitas merupakan hal yang sangat penting, berkas yang berisi data penelitian, data karya ilmiah (jurnal atau prosiding), berkas pengabdian kepada masyarakat dan juga data pengajaran dosen serta data profil dosen seperti ijazah dan trakskrip nilai adalah berkas yang wajib dimiliki oleh setiap dosen. Dalam pelayanan manajemen berkas dosen masih banyak permasalahan diantaranya penyimpanan berkas dosen masih terbilang manual dengan menyimpan berkas didalam ordner sehingga berkas rentan hilang, rusak atau disebabkan hal lain. Pembuatan aplikasi ini bertujuan untuk mengelola berkas dosen sehingga lebih efektif dan efesien serta lebih aman. Pembuatan aplikasi dengan memanfaatkan salah satu media penyimpanan online yaitu google drive, dengan pembuatan aplikasi manajemen berkas dosen menggunakan penyimpanan online google drive berguna untuk mempermudah pengolahan data berkas dosen. Google drive sebagai media penyimpanan online menyediakan penyimpanan online gratis sehingga sangat efektif dan efisien untuk menyimpan banyak berkas. Dengan menyimpan berkas ke dalam google drive, berkas tidak mudah hilang dan mudah ditemukan. Berdasarkan hasil pengujian dapat disimpulkan bahwa tingkat efektivitas dan efesiensi aplikasi manajemen berkas dosen adalah sangat efektif dan efisien.\\n\\nKata Kunci : Manajemen Berkas Dosen, Penyimpananan Online, Google Drive'}\n"
     ]
    },
    {
     "name": "stderr",
     "output_type": "stream",
     "text": [
      "2022-12-02 16:34:20 [scrapy.core.scraper] DEBUG: Scraped from <200 https://pta.trunojoyo.ac.id/welcome/detail/140411100044>\r\n",
      "{'Abstrak': 'Pada saat ini, kredit sangat diminati oleh masyarakat dikarenakan dengan mengajukan permintaan kredit, masyarakat dapat membuka usaha atau untuk mengembangkan usahanya agar lebih maju. Bank BPR UMKM sendiri bergerak dalam bidang perkreditan usaha rakyat yang dimana sistem keputusan pemberian kreditnya masih menggunakan perhitungan manual dimana resiko adanya kredit yang bermasalah masih tinggi. Oleh sebab itu diperlukan sistem pendukung keputusan kelayakan kredit pada Bank BPR UMKM untuk mengetahui seberapa cepat proses yang dilakukan oleh pihak bank untuk melakukan penialaian kelayakan kredit menggunakan sistem ini. Berkaitan dengan tujuan tersebut penelitian ini menerapkan metode logika fuzzy tsukamoto. Dari data uji sebanyak 50 data yang telah dilakukan menghasilkan tingkat akurasi sebesar 90% '}\n"
     ]
    },
    {
     "name": "stderr",
     "output_type": "stream",
     "text": [
      "2022-12-02 16:34:21 [scrapy.core.engine] DEBUG: Crawled (200) <GET https://pta.trunojoyo.ac.id/welcome/detail/140411100042> (referer: None)\n"
     ]
    },
    {
     "name": "stderr",
     "output_type": "stream",
     "text": [
      "2022-12-02 16:34:21 [scrapy.core.engine] DEBUG: Crawled (200) <GET https://pta.trunojoyo.ac.id/welcome/detail/140411100047> (referer: None)\n"
     ]
    },
    {
     "name": "stderr",
     "output_type": "stream",
     "text": [
      "2022-12-02 16:34:21 [scrapy.core.engine] DEBUG: Crawled (200) <GET https://pta.trunojoyo.ac.id/welcome/detail/140411100045> (referer: None)\n"
     ]
    },
    {
     "name": "stderr",
     "output_type": "stream",
     "text": [
      "2022-12-02 16:34:21 [scrapy.core.scraper] DEBUG: Scraped from <200 https://pta.trunojoyo.ac.id/welcome/detail/140411100042>\r\n",
      "{'Abstrak': 'Sistem pendukung keputusan merupakan suatu sistem informasi berbasis komputer yang bertujuan untuk membantu dalam proses pengambilan keputusan. Banyak metode yang dapat digunakan dalam sistem pendukung keputusan misalnya Fuzzy Mamdani dan Fuzzy Tsukamoto, yang mana dalam sebuah penelitian disebutkan bahwa metode Fuzzy Mamdani memiliki tingkat keakuratan sebesar 87% dan Fuzzy Tsukamoto menghasilkan nilai keakuratan sebesar 0,9512 sehingga dapat disimpulkan bahwa metode Fuzzy Mamdani dan Fuzzy Tsukamoto menghasilkan hasil yang sama baik. Sehingga berdasarkan permasalahan diatas dibuat sistem pendukung keputusan pemilihan sepeda motor dengan membandingkan metode Fuzzy Mamdani dan Fuzzy Tsukamoto. Hasil dari penelitian metode Fuzzy Mamdani dan Fuzzy Tsukamoto akan dibandingkan untuk mengetahui kecepatan waktu eksekusi dan ketepatan metode dalam memberikan keputusan. Dari pengujian yang telah dilakukan didapatkan hasil metode Fuzzy Tsukamoto memiliki kecepatan waktu eksekusi 0.013265 detik dari pada metode Fuzzy Mamdani yaitu 0.01256 detik. Sedangkan untuk hasil ketepatan dalam memberikan keputusan, metode Fuzzy Tsukamoto memiliki tingkat akurasi sebesar 85% dan Fuzzy Mamdani sebesar 75%.'}\n"
     ]
    },
    {
     "name": "stderr",
     "output_type": "stream",
     "text": [
      "2022-12-02 16:34:21 [scrapy.core.engine] DEBUG: Crawled (200) <GET https://pta.trunojoyo.ac.id/welcome/detail/140411100048> (referer: None)\n"
     ]
    },
    {
     "name": "stderr",
     "output_type": "stream",
     "text": [
      "2022-12-02 16:34:21 [scrapy.core.scraper] DEBUG: Scraped from <200 https://pta.trunojoyo.ac.id/welcome/detail/140411100047>\r\n",
      "{'Abstrak': None}\n"
     ]
    },
    {
     "name": "stderr",
     "output_type": "stream",
     "text": [
      "2022-12-02 16:34:21 [scrapy.core.scraper] DEBUG: Scraped from <200 https://pta.trunojoyo.ac.id/welcome/detail/140411100045>\r\n",
      "{'Abstrak': 'Rekam medis dalam dunia kedokteran merupakan hal yang sangat penting, data rekam medis bersifat pribadi dan wajib bagi pasien saat menjalani pelayanan kesehatan. Dalam peningkatan pelayanan kesehatan masih banyak permasalahan diantaranya sistem pencatatan rekam medis masih tradisional dan belum menggunakan basis data dalam penyimpanannya serta masih banyak keluhan kartu kunjungan hilang atau ketinggalan saat pasien ingin berobat. Pengembangan  aplikasi ini bertujuan untuk mengelola data rekam medis pasien sehingga lebih efisien dan lebih aman. Maka dari itu, diperlukan pengembangan aplikasi rekam medis berbasis fingerprint dengan mengembangkan aplikasi rekam medis berbasis fingerprint berguna untuk mempermudah dalam pengolahan data rekam medis hingga sampai pada pembuatan laporan rekam medis. Aplikasi rekam medis berbasis fingerprint pasien mencakup pelolahan data rekam medis yang bersifat pribadi dan rahasia. Maka sistem ini diperlukan juga penerapan algoritma dalam mengamankan data rekam medis. Adapun algoritma yang digunakan untuk mengamankan data hasil diagnosis pasien yaitu dengan menggunakan algoritma AES 256. Setelah tahapan implementasi selesai diperoleh hasil, yaitu proses pengolahan data pasien lebih cepat, penyimpanan data lebih rapih, keamanan data lebih terjamin karena sudah dilengkapi dengan proses validasi user serta penerapan algoritma, dan dalam pembuatan laporan waktu yang dibutuhkan menjadi lebih singkat dibanding sebelumnya. Diharapkan aplikasi ini juga dapat membantu meberikan kinerja kegiatan pelayanan data rekam medis pasien yang lebih nyaman. Berdasarkan hasil pengujian diperoleh perbandingan antara sistem manual puskesmas dengan sistem aplikasi memperoleh hasil rata-rata yaitu 11 menit dengan menggunakan sistem aplikasi sedangankan dengan menggunakan sistem menual Puskesmas Socah yaitu 18 menit dengan selisih waktu 7 menit. Dapat disimpulkan bahwa aplikasi rekam medis pasien berbasis fingerprint adalah sangat efektif dalam proses pelayanan rekam medis pasien dibanding dengan sistem manual Puskesmas Socah dan menjadikan teknologi fingerprint sebagai pengganti kartu berobat pasien.'}\n"
     ]
    },
    {
     "name": "stderr",
     "output_type": "stream",
     "text": [
      "2022-12-02 16:34:21 [scrapy.core.scraper] DEBUG: Scraped from <200 https://pta.trunojoyo.ac.id/welcome/detail/140411100048>\r\n",
      "{'Abstrak': 'ABSTRAK \\nPemerintahan Desa (kelurahan) merupakan satu pemerintahan yang bertugas mengelola dan mempunyai kewajiban dalam melayani administrasi penduduk di tingkat desa. Proses adminnistrasi penduduk di Desa Larangan Dalam, Pamekasan, Madura ini sekarang masih berjalan manual yaitu seperti proses pengajuan atau pendaftaran bagi penduduk yang ingin mengajukan surat keterangan dll, masih terbilang cukup sulit, karena penduduk harus mendatangi rumah petugas desa dan masih diproses sehari setelah pengajuan tersebut, dan juga penyediaan berkas yang masih tidak efektif karena sistem penyimpanan berkas saat ini masih terbilang tradisional dengan menyimpan berkas dalam ordner. Penyimpanan berkas digital sebagai Salinan berkas asli masih dikelola secara manual yang kemudian semakin tidak terstruktur sehingga kurang efisien. Dari permasalahan di atas akan mengimplementasikan metode Model View Controller (MVC) untuk proses membangun aplikasi yang berbasis web dan API Disdukcapil untuk mempermudah petugas desa mendapatkan data diri dari penduduk yang melakukan proses administrasi dengan hanya memasukkan NIK. Harapan dari penelitian ini, aplikasi Pelayanan Administrasi Desa yang berbasis web dapat mempermudah petugas desa dalam pemprosesan administras yang diajuakan penduduk desa agar lebih efektif dan efisien serta terstruktur. \\n \\nKata Kunci : Administrasi Desa, Surat, Metode MVC, Framework Laravel.'}\n"
     ]
    },
    {
     "name": "stderr",
     "output_type": "stream",
     "text": [
      "2022-12-02 16:34:21 [scrapy.core.engine] DEBUG: Crawled (200) <GET https://pta.trunojoyo.ac.id/welcome/detail/140411100046> (referer: None)\n"
     ]
    },
    {
     "name": "stderr",
     "output_type": "stream",
     "text": [
      "2022-12-02 16:34:21 [scrapy.core.engine] DEBUG: Crawled (200) <GET https://pta.trunojoyo.ac.id/welcome/detail/140411100050> (referer: None)\n"
     ]
    },
    {
     "name": "stderr",
     "output_type": "stream",
     "text": [
      "2022-12-02 16:34:22 [scrapy.core.scraper] DEBUG: Scraped from <200 https://pta.trunojoyo.ac.id/welcome/detail/140411100046>\r\n",
      "{'Abstrak': 'Belimbing manis (Averhoa Carambola L.) merupakan salah satu\\npotensi hortikultura yang bersifat komersial dan berpeluang sebagai sumber pendapatan bagi masyarakat. Banyak masyarakat yang ingin membudidayakan buah belimbing, akan tetapi buah belimbing sangat rentan terhadap organisme pengganggu tanaman hal ini dapat membuat petani harus berpikir ulang. Masalah utama yang terdapat pada buah belimbing yaitu serangan hama lalat buah dan ulat buah yang memiliki gejala hampir sama, jika tidak dilakukan penanganan secara benar akan mengakibatkan dampak yang tidak diinginkan seperti kegagalan panen sehingga dapat mengakibatkan produksi buah belimbing berkurang. Dalam penelitian ini menggunakan metode Decision Tree C4.5. Metode Decision Tree C4.5 merupakan metode yang digunakan untuk klasifikasi berdasarkan cabang pohon atau pertanyaan klasifikasi dan daun atau disebut dengan kelas. Akurasi yang diperoleh sistem diagnosa penyakit buah belimbing dengan dilakukan pengujian K-Fold Cross Validation untuk membagi data menjadi 5 bagian yang terdiri dari 160 data training dan 40 data testing diperoleh nilai rata-rata akurasi menggunakan metode Confusion Matrix sebesar 99.5%. Hasil perhitungan rata-rata F-Measure diperoleh nilai akurasi Precision dan Recall lalat buah sebesar 99.62% dan ulat buah sebesar 99.62%. Tingkat kelayakan pemodelan pada sistem diagnosa penyakit buah belimbing diperoleh nilai rata-rata akurasi sebesar 94.57% yang melibatkan 6 responden dengan pertanyaan kuesioner sebanyak 10.'}\n"
     ]
    },
    {
     "name": "stderr",
     "output_type": "stream",
     "text": [
      "2022-12-02 16:34:22 [scrapy.core.scraper] DEBUG: Scraped from <200 https://pta.trunojoyo.ac.id/welcome/detail/140411100050>\r\n",
      "{'Abstrak': None}\n"
     ]
    },
    {
     "name": "stderr",
     "output_type": "stream",
     "text": [
      "2022-12-02 16:34:22 [scrapy.core.engine] DEBUG: Crawled (200) <GET https://pta.trunojoyo.ac.id/welcome/detail/140411100052> (referer: None)\n"
     ]
    },
    {
     "name": "stderr",
     "output_type": "stream",
     "text": [
      "2022-12-02 16:34:22 [scrapy.core.engine] DEBUG: Crawled (200) <GET https://pta.trunojoyo.ac.id/welcome/detail/140411100054> (referer: None)\n"
     ]
    },
    {
     "name": "stderr",
     "output_type": "stream",
     "text": [
      "2022-12-02 16:34:22 [scrapy.core.scraper] DEBUG: Scraped from <200 https://pta.trunojoyo.ac.id/welcome/detail/140411100052>\r\n",
      "{'Abstrak': 'Tuberkulosis merupakan penyakit yang disebabkan oleh bakteri, dapat ditularkan melalui dahak ataupun udara. Penyakit ini dapat menyerang semua usia dari berbagai kalangan, namun kebanyakan yang mengidap tuberkulosis adalah usia produktif antara 15 – 55 tahun. Sedangkan banyak masyarakat yang tidak mengetahui bahaya dari penyakit tuberkulosis, masyarakat enggan melakukan pemeriksaan karena membutuhkan serangkaian pengujian laboraturium. Sehingga perlu adanya sistem pakar yang dapat membantu dalam melakukan diagnosis dini pada penyakit tuberkulosis untuk menggurangi penyebaran dan mempercepat penangganan pasien. Sistem pakar diagnosis penyakit tuberkulosis ini menerapkan algoritma Naïve bayes yang menghasilkan keputusan dari konsultasi menjawab beberapa pertanyaan berupa gejala – gejala yang dialami, selain itu agar penderita dapat memiliki status gizi yang baik untuk membantu proses penyembuhan dibutuhkan menu diet yang diimplementasi melalui metode Forward chaining dengan memanfaatkan fakta - fakta yang dimiliki pengguna untuk dicocokkan dengan aturan yang ada pada sistem. Sistem ini memilki tingkat akurasi 97,2% pada diagnosis dengan naive bayes dan 93% pada rekomendasi menu diet dengan metode forward chaining.'}\n"
     ]
    },
    {
     "name": "stderr",
     "output_type": "stream",
     "text": [
      "2022-12-02 16:34:22 [scrapy.core.scraper] DEBUG: Scraped from <200 https://pta.trunojoyo.ac.id/welcome/detail/140411100054>\r\n",
      "{'Abstrak': 'Pada pertanian modern sistem pengolahan tumbuh kembang\\ntanaman menjadi hal yang lebih diprioritaskan yang bertujuan untuk\\nmendapatkan hasil tumbuhan yang berkualitas seperti halnya pengolahan\\ntanaman dalam greenhouse. Pengendalian lingkungan dalam greenhouse\\npenting dilakukan yang mana disesuaikan dengan kasus yang terjadi di\\nUPT pengembangan agribisnis tanaman pangan dan holikultura Lebo\\nSidoarjo yang memiliki greenhouse dengan lebar 40 meter, panjang 80\\nmeter dan tinggi 16 meter. Selain itu varietas melon yang di tanam dalam\\ngreenhouse tersebut memerlukan suhu 25-30°C dan kelembaban berkisar\\n70% sampai 80%. Dengan kondisi seperti itu maka suhu dan kelembaban\\ndalam ruangan harus di jaga kestabilannya. Masalah-masalah tersebut\\ndiselesaikan dengan memanfaatkan Internet of Things (IoT) berbasis\\naplikasi android dengan pengambilan data melalui sensor mikrokontroler\\nArduino sehingga dapat mempermudah pertani dalam melakukan\\nmonitoring suhu dan kelembaban ruangan greenhouse secara realtime\\ndari jarak jauh. Dari pengujian yang telah dilakukan dihasilkan Root\\nMean Square Error (RMSE) suhu sebesar 2.93 dan kelembaban sebesar\\n11.67. Sedangkan pengujian pada tanaman yang belum berbuah diperoleh\\nhasil suhu sebesar 2.92 dan kelembaban sebesar 13.17. sedangkan pada\\ntanaman yang sudah berbuah dan diperoleh hasil suhu sebesar 2.97 dan\\nkelembaban sebesar 8.23. Sedangkan pengujian yang telah dilakukan\\npada tanaman pagi hari diperoleh suhu sebesar 3.32 dan kelembaban\\nsebesar 12.43. Sedangkan pengujian pada siang hari diperoleh hasil suhu\\nsebesar 2.18 dan kelembaban sebesar 10.35. Dari hasil tersebut dapat\\ndisimpulkan bahwa Root Mean Square Error (RMSE) yang lebih kecil\\ndikatakan lebih akurat dari pada hasil lebih besar.\\nKata Kunci: Petanian, Greenhouse, Internet of Things (IoT),\\nMikrokontroller Arduino, Root Mean Square Error (RMSE).'}\n"
     ]
    },
    {
     "name": "stderr",
     "output_type": "stream",
     "text": [
      "2022-12-02 16:34:22 [scrapy.core.engine] DEBUG: Crawled (200) <GET https://pta.trunojoyo.ac.id/welcome/detail/140411100053> (referer: None)\n"
     ]
    },
    {
     "name": "stderr",
     "output_type": "stream",
     "text": [
      "2022-12-02 16:34:22 [scrapy.core.engine] DEBUG: Crawled (200) <GET https://pta.trunojoyo.ac.id/welcome/detail/140411100055> (referer: None)\n"
     ]
    },
    {
     "name": "stderr",
     "output_type": "stream",
     "text": [
      "2022-12-02 16:34:22 [scrapy.core.scraper] DEBUG: Scraped from <200 https://pta.trunojoyo.ac.id/welcome/detail/140411100053>\r\n",
      "{'Abstrak': 'Padi merupakan hasil pertanian yang sangat utama dijadikan sebagai makanan pokok sehari-hari. Namun, adanya perubahan musim yang tidak menentu menyebabkan banyaknya penyakit yang menyerang tanaman padi mengakibatkan pertumbuhan tanaman terganggu, bahkan dapat menggagalkan terwujudnya produksi yang maksimal. Oleh karena itu, dibutuhkan suatu sistem pakar agar dapat membantu mempermudah dalam mendeteksi hama dan penyakit yang ada pada tanaman padi. Sistem ini bertujuan untuk mengetahui tingkat akurasi metode Fuzzy K-Nearest Neighbor dalam mendeteksi hama dan penyakit pada tanaman padi. Fuzzy K-nearest Neighbor (F-KNN) ini digunakan karena dalam penentuan kelas akhirnya tidak hanya memperhitungkan jumlah data yang mengikuti sebuah kelas tetapi juga jarak pada tetangga terdekatnya. Dari pengujian yang telah dilakukan dengan menggunakan 43 data uji terhadap 130 data latih dengan menggunakan nilai k= 4. Hasil akurasi tertinggi yang diperoleh adalah 86,05%.'}\n"
     ]
    },
    {
     "name": "stderr",
     "output_type": "stream",
     "text": [
      "2022-12-02 16:34:22 [scrapy.core.scraper] DEBUG: Scraped from <200 https://pta.trunojoyo.ac.id/welcome/detail/140411100055>\r\n",
      "{'Abstrak': None}\n"
     ]
    },
    {
     "name": "stderr",
     "output_type": "stream",
     "text": [
      "2022-12-02 16:34:22 [scrapy.core.engine] DEBUG: Crawled (200) <GET https://pta.trunojoyo.ac.id/welcome/detail/140411100051> (referer: None)\n"
     ]
    },
    {
     "name": "stderr",
     "output_type": "stream",
     "text": [
      "2022-12-02 16:34:23 [scrapy.core.scraper] DEBUG: Scraped from <200 https://pta.trunojoyo.ac.id/welcome/detail/140411100051>\r\n",
      "{'Abstrak': 'ABSTRAK\\nKendaraan bermotor adalah alat transportasi yang cukup digemari terutama kendaraan bermotor roda empat yang semakin meningkat. Kesadaran masyarakat dan kurang efisiennya sistem lalu lintas memberikan dampak waktu empuh dalam melakukan perjalanan, dampak yang lebih parah yakni lumpuhnya lalulintas di kota-kota besar. Dari permasalahan tersebut, penelitian ini melakukan deteksi letak plat nomor menggunakan metode Harris Corner dan segmentasi karakter plat nomor menggunakan Otsu Threshold sebagai salah satu upaya untuk menerapkan sistem lalu lintas cerdas. Dengan menggunakan data uji sebanyak 100 citra kendraan bermotor, hasil deteksi letak plat nomor menggunakan Harris Corner sebesar 90%, sedangkan segmentasi karakter plat nomor menggunakan metode Otsu Threshold mempunyai hasil akurasi sebesar 84,14%. Keduanya memiliki akurasi yang cukup tinggi dan bisa menjadi opsi untuk menghindari lumpuhnya lalu lintas terutama pada pintu masuk tol.\\n\\nKata Kunci :Deteksi letak plat nomor, Harris corner, Segmentasi karakter, otsu threshold.\\n'}\n"
     ]
    },
    {
     "name": "stderr",
     "output_type": "stream",
     "text": [
      "2022-12-02 16:34:23 [scrapy.core.engine] DEBUG: Crawled (200) <GET https://pta.trunojoyo.ac.id/welcome/detail/140411100056> (referer: None)\n"
     ]
    },
    {
     "name": "stderr",
     "output_type": "stream",
     "text": [
      "2022-12-02 16:34:23 [scrapy.core.engine] DEBUG: Crawled (200) <GET https://pta.trunojoyo.ac.id/welcome/detail/140411100057> (referer: None)\n"
     ]
    },
    {
     "name": "stderr",
     "output_type": "stream",
     "text": [
      "2022-12-02 16:34:23 [scrapy.core.scraper] DEBUG: Scraped from <200 https://pta.trunojoyo.ac.id/welcome/detail/140411100056>\r\n",
      "{'Abstrak': 'Content Based Image Retrieval (CBIR) ialah salah satu teknik yang digunakan untuk melakukan pencarian citra berbasis isi. Meskipun hasil pencarian dari CBIR relevan dengan query yang diberikan oleh user, tetapi terkadang hasilnya tidak seperti yang diinginkan oleh user. Sehingga untuk mengatasi permasalahan tersebut dalam penelitian ini akan digunakan dua lapis sistem temu kembali yang mengkombinasikan text retrieval dengan model Vector Space Model (VSM) dan pembobotan menggunakan Term Frequency - Inverse - Document Frequency (TF-IDF) dikombinasikan dengan CBIR yang menggunakan Integrated Color and Intensity Co-Occurence Matrix (ICICM) sebagai metode feature extraction untuk citra. Feature yang digunakan pada ICICM ialah tekstur dan warna yang merupakan 2 feature tingkat rendah yang sering digunakan untuk klasifikasi citra dan retrieval. Tujuan dari penelitian ini ialah mengkombinasikan dua lapis sistem temu kembali yaitu text dan content based untuk mendapatkan hasil retrieval yang lebih baik. Data yang digunakan dalam penelitian ini berasal dari media sosial Twitter dengan query teks berupa “wisata madura”. Hasil yang didapat dari penelitian ini adalah dengan menggunakan kombinasi text based dengan content based dapat meningkatkan precision dan recall hasil retrieval meskipun tanpa melakukan pencarian dalam seluruh dataset. Hasil yang yang didapatkan pada penelitian ini adalah dengan menggunakan kombinasi antara text based dengan content based hasilnya lebih baik dibandingkan dengan menggunakan text based saja yaitu dengan kenaikan sebesar 0,0576 untuk precision dan dengan recall yang sama. Sedangkan dengan menggunakan kombinasi antara text based dengan content based hasilnya lebih baik dibandingkan dengan menggunakan content based saja yaitu dengan kenaikan sebesar 0,0238 untuk precision dan dengan recall sebesar 0,2000.'}\n"
     ]
    },
    {
     "name": "stderr",
     "output_type": "stream",
     "text": [
      "2022-12-02 16:34:23 [scrapy.core.scraper] DEBUG: Scraped from <200 https://pta.trunojoyo.ac.id/welcome/detail/140411100057>\r\n",
      "{'Abstrak': 'Penyakit kusta adalah penyakit menahun dengan dampak cacat fisik pada penderita. Indonesia berada dalam urutan ketiga dengan jumlah kasus penderita penyakit kusta di dunia dalam rentang tahun 2005 hingga 2016. Pada tahun 2016, provinsi Jawa Timur ditemukan 3.636 penderita baru. Kasus terdeteksi di Kabupaten Sampang sebanyak 329 kasus dengan angka prevalensi sebesar 3,47 per 10.000 penduduk. Dinas Kesehatan Kabupaten Sampang telah melakukan upaya pengawasan, pencegahan dan pengobatan terhadap pasien kusta untuk mengurangi angka prevalensi. Masalah yang dihadapi adalah belum adanya pemetaan dan manajemen yang tersentral dalam pengolahan data sehingga instansi dan stakeholder terkait tidak memiliki gambaran persebaran spasial pada setiap wilayah di Kabupaten Sampang. Berdasarkan hasil dari pembangunan sistem informasi dalam penelitian ini, mendapatkan penilaian evaluasi kelayakan sebesar 86.36%. Sehingga sistem informasi pemetaan untuk pengolahan data pasien kusta beserta persebarannya di Kabupaten Sampang dikategorikan sangat layak sebagai informasi dasar dalam program pengendalian penyakit kusta.\\nKata Kunci : Kusta, Sistem Informasi Geografis, WEB GIS, Sampang.'}\n"
     ]
    },
    {
     "name": "stderr",
     "output_type": "stream",
     "text": [
      "2022-12-02 16:34:23 [scrapy.core.engine] DEBUG: Crawled (200) <GET https://pta.trunojoyo.ac.id/welcome/detail/140411100058> (referer: None)\n"
     ]
    },
    {
     "name": "stderr",
     "output_type": "stream",
     "text": [
      "2022-12-02 16:34:23 [scrapy.core.engine] DEBUG: Crawled (200) <GET https://pta.trunojoyo.ac.id/welcome/detail/140411100059> (referer: None)\n"
     ]
    },
    {
     "name": "stderr",
     "output_type": "stream",
     "text": [
      "2022-12-02 16:34:23 [scrapy.core.scraper] DEBUG: Scraped from <200 https://pta.trunojoyo.ac.id/welcome/detail/140411100058>\r\n",
      "{'Abstrak': None}\n"
     ]
    },
    {
     "name": "stderr",
     "output_type": "stream",
     "text": [
      "2022-12-02 16:34:23 [scrapy.core.scraper] DEBUG: Scraped from <200 https://pta.trunojoyo.ac.id/welcome/detail/140411100059>\r\n",
      "{'Abstrak': None}\n"
     ]
    },
    {
     "name": "stderr",
     "output_type": "stream",
     "text": [
      "2022-12-02 16:34:24 [scrapy.core.engine] DEBUG: Crawled (200) <GET https://pta.trunojoyo.ac.id/welcome/detail/140411100060> (referer: None)\n"
     ]
    },
    {
     "name": "stderr",
     "output_type": "stream",
     "text": [
      "2022-12-02 16:34:24 [scrapy.core.engine] DEBUG: Crawled (200) <GET https://pta.trunojoyo.ac.id/welcome/detail/140411100061> (referer: None)\n"
     ]
    },
    {
     "name": "stderr",
     "output_type": "stream",
     "text": [
      "2022-12-02 16:34:24 [scrapy.core.scraper] DEBUG: Scraped from <200 https://pta.trunojoyo.ac.id/welcome/detail/140411100060>\r\n",
      "{'Abstrak': 'Dinas Pekerjaan Umum dan Penataan Ruang (PUPR) Kabupaten Bangkalan bertanggungjawab untuk memperbaiki kerusakan jalan tingkat kabupaten. Dalam penanganannya terdapat beberapa kendala diantaranya keterbatasan jumlah dana dari pusat pemerintah dan banyaknya jumlah jalan yang rusak. Oleh karena itu, perlu dilakukan penelitian untuk menentukan prioritas perbaikan jalan dengan memperhatikan kriteria-kriteria yang ada diantaranya panjang ruas jalan, lebar ruas jalan, panjang tiap kondisi (baik, sedang, rusak ringan dan rusak berat). Dalam penelitian ini dilakukan penggabungan dua metode yaitu Fuzzy C-Means (FCM) dan Metode Simple Multi Attribute Rating Technique (SMART). Metode FCM adalah metode yang mampu mengelompokkan data berdasarkan karakteristik yang dimilikinya dan SMART merupakan metode yang mampu menyelesaikan masalah dengan multikriteria. Dengan penggabungan dua metode pada penentuan prioritas perbaikan jalan menghasilkan tingkat akurasi sebesar 80%. Nilai akurasi ini diperoleh dengan cara menganalisa tingkat persamaan hasil perhitungan yang dilakukan oleh orang ahli di dinas Pekerjaan Umum dan Bina Marga Kota Surabaya terhadap sistem yang kita buat. Pembuatan SPK ini memiliki tingkat kesesuaian seperti apa yang diinginkan oleh user /  pengguna sebesar 73,4% berdasarkan kuesioner terhadap 6 responden.'}\n"
     ]
    },
    {
     "name": "stderr",
     "output_type": "stream",
     "text": [
      "2022-12-02 16:34:24 [scrapy.core.scraper] DEBUG: Scraped from <200 https://pta.trunojoyo.ac.id/welcome/detail/140411100061>\r\n",
      "{'Abstrak': 'Madura merupakan salah satu pulau yang terletak di provinsi Jawa Timur yang memiliki 4 kabupaten yaitu bangkalan, sampang, pamekasan, sumenep. Di setiap kabupaten/ daerah yang berada di madura memiliki potensi wisata yang dapat dikunjungi. Namun permasalahan yang dihadapi yaitu belum adanya sistem yang mewadahi potensi wisata di Madura. Selain itu, wisatawan kesulitan mendapatkan informasi wisata resmi mengenai objek wisata dalam ruang lingkup Madura. Oleh sebab itu, diperlukan suatu sistem pendukung keputusan untuk pemilihan objek wisata di Madura  sebagai salah satu cara dalam memberikan  kemudahan pada calon wisatawan untuk dapat memilih objek wisata di Madura yang sesuai kriteria dan banyaknya pengunjung.  Berkaitan dengan  tujuan tersebut penelitian ini menerapkan metode logika Fuzzy sebagai model pendukung keputusan dalam pemilihan daftar objek wisata di Madura. Fuzzy digunakan karena metode ini merupakan suatu bentuk model pendukung keputusan dimana peralatan utamanya adalah sebuah hirarki fungsional dengan input utamanya kriteria yang telang ditentukan. Sehingga nantinya hasil yang diharapkan dapat membantu mempermudah calon wisatawan dalam mengambil keputusan untuk memilih objek wisata yang ada di Madura. Berdasarkan hasil penelitian yang dilakukan menghasilkan tingkat akurasi 100%.'}\n"
     ]
    },
    {
     "name": "stderr",
     "output_type": "stream",
     "text": [
      "2022-12-02 16:34:24 [scrapy.core.engine] DEBUG: Crawled (200) <GET https://pta.trunojoyo.ac.id/welcome/detail/140411100062> (referer: None)\n"
     ]
    },
    {
     "name": "stderr",
     "output_type": "stream",
     "text": [
      "2022-12-02 16:34:24 [scrapy.core.engine] DEBUG: Crawled (200) <GET https://pta.trunojoyo.ac.id/welcome/detail/140411100063> (referer: None)\n"
     ]
    },
    {
     "name": "stderr",
     "output_type": "stream",
     "text": [
      "2022-12-02 16:34:24 [scrapy.core.scraper] DEBUG: Scraped from <200 https://pta.trunojoyo.ac.id/welcome/detail/140411100062>\r\n",
      "{'Abstrak': None}\n"
     ]
    },
    {
     "name": "stderr",
     "output_type": "stream",
     "text": [
      "2022-12-02 16:34:24 [scrapy.core.scraper] DEBUG: Scraped from <200 https://pta.trunojoyo.ac.id/welcome/detail/140411100063>\r\n",
      "{'Abstrak': 'Mojokerto merupakan salah satu kabupaten di Jawa Timur yang memiliki berbagai macam kebudayaan, tradisi, sejarah hingga wisata yang menarik. Keanekaragaman tersebut berpotensi menjadikan Mojokerto menjadi tempat yang ramai dikunjungi para wisatawan. Waktu yang singkat dan banyaknya destinasi wisata yang ingin dikunjungi, membuat wisatawan harus menjadwalkan perjalanan wisatanya seefektif mungkin. Dengan mengimplemetasikan Traveling Salesman Problem menggunakan algoritma Greedy aplikasi dapat memberikan informasi kepada pengguna tentang rute paling optimum menuju beberapa lokasi wisata, pengguna dapat menentukan jalur yang akan dilalui untuk mengatasi efesiensi waktu. Algoritma Greedy dipilih dalam kasus Traveling Salesman Porblem karena algoritma ini dapat memberikan sebuah solusi terbaik untuk permasalahan optimasi dengan waktu pemrosesan yang cepat. Selain memberikan rute paling optimum, sistem juga memberikan informasi deskripsi mengenai destinasi wisata, tempata makan, dan penginapan yang dibutuhkan oleh wisatawan. Hasil dari implementasi Sistem Informasi Geografis Menggunakan Algoritma Greedy, didapatkan performa yang Baik dimana dapat dilihat dari akurasi ketepatan rekomendasi rute yang diberikan cukup sesuai dengan rekomendasi yang diberikan oleh dinas pariwisata, dan dalam pemroresan Algoritma Greedy cukup singkat dengan kisaran waktu kurang dari 1 detik. Sistem cukup membantu wisatawan dalam memberikan informasi mengenai destinasi wisata dan menunjukan rekomendasi rute yang optimum yang dapat dilihat dari pengujian respon user yang mendapatkan nilai 79,8 %.'}\n"
     ]
    },
    {
     "name": "stderr",
     "output_type": "stream",
     "text": [
      "2022-12-02 16:34:24 [scrapy.core.engine] DEBUG: Crawled (200) <GET https://pta.trunojoyo.ac.id/welcome/detail/140411100064> (referer: None)\n"
     ]
    },
    {
     "name": "stderr",
     "output_type": "stream",
     "text": [
      "2022-12-02 16:34:24 [scrapy.core.scraper] DEBUG: Scraped from <200 https://pta.trunojoyo.ac.id/welcome/detail/140411100064>\r\n",
      "{'Abstrak': None}\n"
     ]
    },
    {
     "name": "stderr",
     "output_type": "stream",
     "text": [
      "2022-12-02 16:34:25 [scrapy.core.engine] DEBUG: Crawled (200) <GET https://pta.trunojoyo.ac.id/welcome/detail/140411100049> (referer: None)\n"
     ]
    },
    {
     "name": "stderr",
     "output_type": "stream",
     "text": [
      "2022-12-02 16:34:25 [scrapy.core.engine] DEBUG: Crawled (200) <GET https://pta.trunojoyo.ac.id/welcome/detail/140411100065> (referer: None)\n"
     ]
    },
    {
     "name": "stderr",
     "output_type": "stream",
     "text": [
      "2022-12-02 16:34:25 [scrapy.core.scraper] DEBUG: Scraped from <200 https://pta.trunojoyo.ac.id/welcome/detail/140411100049>\r\n",
      "{'Abstrak': None}\n"
     ]
    },
    {
     "name": "stderr",
     "output_type": "stream",
     "text": [
      "2022-12-02 16:34:25 [scrapy.core.scraper] DEBUG: Scraped from <200 https://pta.trunojoyo.ac.id/welcome/detail/140411100065>\r\n",
      "{'Abstrak': 'Penjadwalan mata kuliah pada perguruan tinggi atau universitas merupakan hal yang sangat penting dalam proses kegiatan akademik dan juga menjadi suatu persoalan yang sulit dipecahkan. Dengan keterbatasan dosen yang ada, jumlah ruangan dan kelas dituntut agar tetap bisa memenuhi kebutuhan pelayanan kepada mahasiswa. Saat ini, penjadwalan yang dilakukan pada Fakultas Pertanian Universitas Tunojoyo Madura seringkali mengalami kesulitan dalam menyusun jadwal. Dikarenakan banyaknya jumlah mata kuliah dan kelas disertai dengan terbatasnya tenaga mengajar dan ruang perkuliahan. Oleh karena itu, perlu dilakukan optimasi penjadwalan secara otomatis. Berdasarkan permasalahan yang ada, diperlukan suatu aplikasi penjadwalan perkuliahan secara otomatis agar dapat menangani hal tersebut. Ada beberapa metode pada penelitian sebelumnya yang digunakan untuk memecahkan masalah penjadwalan dan menghasilkan jadwal optimal, seperti metode Tabu Search. Dalam penelitian ini, penyelesaian masalah penjadwalan perkuliahan menggunakan metode Tabu Search. Tabu Search merupakan metode yang berlandaskan pada pencarian lokal (local search). Dalam metode Tabu Search, solusi awal berupa jadwal yang dibangkitkan secara random, kemudian dicari solusi akhirnya dan yang menjadi Tabu List adalah kumpulan move berbentuk array yang merupakan solusi jadwal mata kuliah dengan nilai total penalti paling kecil pada tiap iterasi. Penelitian ini menghasilkan rata-rata pelanggaran soft constraint sebanyak 3,15. Untuk rata-rata waktu sebanyak 37,06 detik. Rata-rata keakuratan penjadwalan adalah 94,7%.'}\n"
     ]
    },
    {
     "name": "stderr",
     "output_type": "stream",
     "text": [
      "2022-12-02 16:34:25 [scrapy.core.engine] DEBUG: Crawled (200) <GET https://pta.trunojoyo.ac.id/welcome/detail/140411100066> (referer: None)\n"
     ]
    },
    {
     "name": "stderr",
     "output_type": "stream",
     "text": [
      "2022-12-02 16:34:25 [scrapy.core.engine] DEBUG: Crawled (200) <GET https://pta.trunojoyo.ac.id/welcome/detail/140411100067> (referer: None)\n"
     ]
    },
    {
     "name": "stderr",
     "output_type": "stream",
     "text": [
      "2022-12-02 16:34:25 [scrapy.core.scraper] DEBUG: Scraped from <200 https://pta.trunojoyo.ac.id/welcome/detail/140411100066>\r\n",
      "{'Abstrak': None}\n"
     ]
    },
    {
     "name": "stderr",
     "output_type": "stream",
     "text": [
      "2022-12-02 16:34:25 [scrapy.core.scraper] DEBUG: Scraped from <200 https://pta.trunojoyo.ac.id/welcome/detail/140411100067>\r\n",
      "{'Abstrak': None}\n"
     ]
    },
    {
     "name": "stderr",
     "output_type": "stream",
     "text": [
      "2022-12-02 16:34:25 [scrapy.core.engine] DEBUG: Crawled (200) <GET https://pta.trunojoyo.ac.id/welcome/detail/140411100069> (referer: None)\n"
     ]
    },
    {
     "name": "stderr",
     "output_type": "stream",
     "text": [
      "2022-12-02 16:34:25 [scrapy.core.engine] DEBUG: Crawled (200) <GET https://pta.trunojoyo.ac.id/welcome/detail/140411100070> (referer: None)\n"
     ]
    },
    {
     "name": "stderr",
     "output_type": "stream",
     "text": [
      "2022-12-02 16:34:25 [scrapy.core.scraper] DEBUG: Scraped from <200 https://pta.trunojoyo.ac.id/welcome/detail/140411100069>\r\n",
      "{'Abstrak': 'Jagung merupakan salah satu tanaman yang cukup penting, karena jagung adalah komoditas pangan terbesar kedua setelah padi. Akan tetapi kebutuhan atas komoditas jagung di Indonesia masih belum tercukupi sehingga harus mengimpor dari negara lain. Di antara salah satu faktornya adalah hama dan penyakit yang menyerang tanaman jagung yang menyebabkan rendahnya hasil panen jagung. Sehingga teknik pemrosesan citra digital perlu diterapkan untuk mendeteksi penyakit tanaman jagung sejak dini. Metode yang akan digunakan adalah Fuzzy Color Histogram (FCH) untuk ekstraksi warna karena keunggulan metode ini yaitu tidak terlalu sensitif dengan noisy dan perbedaan cahaya. Sedangkan untuk ekstraksi fitur tekstur, metode yang akan digunakan adalah metode Gray Level Run-Length Matrix (GLRLM). Dari data uji sebanyak 3.847 citra daun jagung, hasil akurasi tertinggi dari metode FCH adalah 73.95%, untuk metode GLRLM adalah 69.17%, sedangkan untuk penggabungan keduanya menghasilkan akurasi paling tinggi yaitu 81.29%.'}\n"
     ]
    },
    {
     "name": "stderr",
     "output_type": "stream",
     "text": [
      "2022-12-02 16:34:25 [scrapy.core.scraper] DEBUG: Scraped from <200 https://pta.trunojoyo.ac.id/welcome/detail/140411100070>\r\n",
      "{'Abstrak': 'Berbagai cabang olahraga seperti sepak bola, tenis meja, bulu tangkis, dan lainnya mengharuskan setiap berita olahraga untuk dikelompokkan sesuai dengan cabangnya. Oleh karena itu diperlukan cara untuk mengelompokkan berita olahraga yang memiliki kesamaan. Pengelompokkan dapat dilakukan dengan banyak metode. Metode yang bisa menangani permasalah ini salah satunya adalah k-means clustering. K-means clustering adalah metode pengelompokan yang bisa bekerja dengan dataset yang besar dengan efisien. Namun metode ini memiliki permasalahan disaat penentuan awal pusat cluster. Hasil akhir cluster dari k-means sangat bergantung pada penentuan awal ini. Metode cosine similairty dapat membantu k-means clustering mendapatkan pusat cluster yang baik. Pada penelitian ini pengelompokan berita olahraga berbahasa Indonesia dilakukan dengan metode k-means clustering yang telah dimodifikasi dengan cosine similarity. Hasil yang didapatkan dari percobaan adalah pusat cluster terbaik yang dihasilkan oleh metode k-means selalu terjadi perubahan, bergantung pada penentuan awal pusat cluster. Setelah dilakukan modifikasi pada penentuan awal, pusat cluster terbaik cenderung konstan, yaitu sebanyak 4 pusat cluster dengan nilai akurasi rata-rata 0.895.'}\n"
     ]
    },
    {
     "name": "stderr",
     "output_type": "stream",
     "text": [
      "2022-12-02 16:34:26 [scrapy.core.engine] DEBUG: Crawled (200) <GET https://pta.trunojoyo.ac.id/welcome/detail/140411100068> (referer: None)\n"
     ]
    },
    {
     "name": "stderr",
     "output_type": "stream",
     "text": [
      "2022-12-02 16:34:26 [scrapy.core.engine] DEBUG: Crawled (200) <GET https://pta.trunojoyo.ac.id/welcome/detail/140411100071> (referer: None)\n"
     ]
    },
    {
     "name": "stderr",
     "output_type": "stream",
     "text": [
      "2022-12-02 16:34:26 [scrapy.core.scraper] DEBUG: Scraped from <200 https://pta.trunojoyo.ac.id/welcome/detail/140411100068>\r\n",
      "{'Abstrak': None}\n"
     ]
    },
    {
     "name": "stderr",
     "output_type": "stream",
     "text": [
      "2022-12-02 16:34:26 [scrapy.core.scraper] DEBUG: Scraped from <200 https://pta.trunojoyo.ac.id/welcome/detail/140411100071>\r\n",
      "{'Abstrak': 'Diabetes adalah penyakit yang disebabkan karena peningkatan gula darah dalam tubuh. Diabetes termasuk penyakit mematikan yang jumlah penderitanya terus meningkat dari tahun ke tahun. Hal ini disebabkan karena keterlambatan diagnosis dan pola makan yang kurang baik. Penyakit ini ditandai dengan peningkatan kadar gula yang berkelanjutan terutama setelah makan. Sehingga penderita diabetes sangat dianjurkan mengatur pola makan sesuai dengan jumlah kalori yang dibutuhkan. Kurangnya pengetahuan masyarakat tentang gizi menjadi hal sulit bagi mereka dalam menentukan pola makan sehat. Terkadang beberapa orang melakukan diet yang salah dan berakibat memperburuk kesehatan tubuh. Untuk itu diperlukan adanya sebuah aplikasi yang bisa membantu dalam mendiagnosis penyakit diabetes dan memberi rekomendasi pola makan. Aplikasi tersebut dibangun dengan implementasi fuzzy logic metode sugeno dan metode naïve bayes. Fuzzy logic metode sugeno digunakan untuk diagnosis penyakit diabetes sedangkan metode naïve bayes untuk rekomendasi pola makan. Hasil dari implementasi fuzzy logic metode sugeno dalam mendiagnosis penyakit diabetes, didapat nilai akurasi sebesar 76.67%. Dengan demikian hasil konversi akurasi diagnosis menunjukkan bahwa hasil diagnosis adalah “baik”. Sedangkan untuk rekomendasi pola makan, setelah dilakukan 5 kali uji rekomendasi maka didapat hasil rata-rata akurasi sebesar 72%. Dengan demikian implementasi metode naïve bayes dalam rekomendasi pola makan menunjukkan bahwa hasil rekomendasi adalah “baik”.'}\n"
     ]
    },
    {
     "name": "stderr",
     "output_type": "stream",
     "text": [
      "2022-12-02 16:34:26 [scrapy.core.engine] DEBUG: Crawled (200) <GET https://pta.trunojoyo.ac.id/welcome/detail/140411100072> (referer: None)\n"
     ]
    },
    {
     "name": "stderr",
     "output_type": "stream",
     "text": [
      "2022-12-02 16:34:26 [scrapy.core.scraper] DEBUG: Scraped from <200 https://pta.trunojoyo.ac.id/welcome/detail/140411100072>\r\n",
      "{'Abstrak': '\\nDonor ASI adalah proses pemberian ASI secara sukarela untuk maksud dan tujuan membantu memenuhi kebutuhan ASI bagi bayi orang lain yang membutuhkan. Berdasarkan Data Survei Sosial Ekonomi Nasional (Susenas) tahun 2010 menyebutkan bahwa hanya 33,6% bayi berumur 0-6 bulan yang mendapat ASI (Air Susu Ibu) eksklusif. Tingkat pemberian ASI eksklusif di Indonesia masih rendah. Proses penyampaian informasi donor ASI pada masyarakat masih terbatas dari media sosial. Banyak yang ingin mendonorkan ASI untuk membantu sesama tetapi karena informasi yang masih kurang, masyarakat tidak tahu bagaimana cara mengetahui informasi tentang donor ASI. Sehingga perlu adanya sistem informasi yang dapat membantu dalam melakukan Donor ASI, yang dilengkapi dengan informasi mengenai ASI. Metodologi yang digunakan untuk membangun sistem ini menggunakan metode Naive Bayes Classifieruntuk menentukan klasifikasi pendonor. Hasil dari penelitian ini adalah aplikasi android Donor ASI khususnya daerah Surabaya. Sehingga mempermudah pendonor dan resipien untuk dapat mengetahui informasi tentang Donor ASI, cara, dan syarat -syarat donor ASI. Aplikasi ini memilki tingkat akurasi 91,32% pada klasifikasi pendonor dengan Metode Naive Bayes Classifier.\\n'}\n"
     ]
    },
    {
     "name": "stderr",
     "output_type": "stream",
     "text": [
      "2022-12-02 16:34:26 [scrapy.core.engine] DEBUG: Crawled (200) <GET https://pta.trunojoyo.ac.id/welcome/detail/140411100073> (referer: None)\n"
     ]
    },
    {
     "name": "stderr",
     "output_type": "stream",
     "text": [
      "2022-12-02 16:34:26 [scrapy.core.engine] DEBUG: Crawled (200) <GET https://pta.trunojoyo.ac.id/welcome/detail/140411100074> (referer: None)\n"
     ]
    },
    {
     "name": "stderr",
     "output_type": "stream",
     "text": [
      "2022-12-02 16:34:26 [scrapy.core.scraper] DEBUG: Scraped from <200 https://pta.trunojoyo.ac.id/welcome/detail/140411100073>\r\n",
      "{'Abstrak': None}\n"
     ]
    },
    {
     "name": "stderr",
     "output_type": "stream",
     "text": [
      "2022-12-02 16:34:26 [scrapy.core.scraper] DEBUG: Scraped from <200 https://pta.trunojoyo.ac.id/welcome/detail/140411100074>\r\n",
      "{'Abstrak': 'Konveksi Total Sport dalam proses produksinya menggunakan pola aliran yaitu flow shop (job yang akan diproses mengalir pada jalur atau arah produksi yang sama) dan perusahaan menggunakan aturan First Come First Serve(FCFS). Metode FCFS tidak memperhatikan nilai dari makespan, ini tidak menguntungkan bagi pesanan yang membutuhkan waktu proses pendek karena jika pesanan ini berada di belakang pesanan yang mempunyai waktu proses jangka panjang, maka harus menunggu lama dan menyebabkan waktu keseluruhan produksi menjadi lebih panjang. Penelitian bertujuan memberikan rekomendasi penjadwalan pengerjaan pesanan dengan nilai makespan yang minimum. Makespan merupakan total waktu yang diperlukan untuk penyelesaian pekerjaan mulai dari urutan pertama yang dikerjakan pada mesin, atau Work Center pertama hingga terakhir. Pada penelitian ini, diusulkan suatu metode penjadwalan produksi dengan menggunakan algoritma genetika yang digunakan untuk meminimisai makespan dari penjadwalan, kemudian dilakukan perbandingan makespan antara penjadwalan metode FCFS dan metode Algoritma Genetika. Nilai fitness dari individu terbaik dipantau. Pada setiap generasi dengan jumlah populasi yang berbeda dan jumlah generasi tertinggi, nilai dari makespan tinggi, sehingga parameter yang digunakan adalah : jumlah generasi = 40, ukuran populasi = 80, peluang crossover=0,1 dan peluang mutasi = 0,001. Hasil akurasi  dengan Parameter Performansi Penjadwalan diperoleh 8,98% Algoritma Genetika lebih baik dari FCFS dengan minimal makespan dari AG yaitu 67,60 jam, sedangkan makespan dari metode FCFS  yaitu 73,67 jam, terdapat pengurangan makespan sebesar 6,07 jam.\\n\\n\\nKata Kunci : Penjadwalan Produksi, Minimalisasi Makespan, Aliran Flow Shop, Algoritma Genetika.'}\n"
     ]
    },
    {
     "name": "stderr",
     "output_type": "stream",
     "text": [
      "2022-12-02 16:34:27 [scrapy.core.engine] DEBUG: Crawled (200) <GET https://pta.trunojoyo.ac.id/welcome/detail/140411100075> (referer: None)\n"
     ]
    },
    {
     "name": "stderr",
     "output_type": "stream",
     "text": [
      "2022-12-02 16:34:27 [scrapy.core.engine] DEBUG: Crawled (200) <GET https://pta.trunojoyo.ac.id/welcome/detail/140411100076> (referer: None)\n"
     ]
    },
    {
     "name": "stderr",
     "output_type": "stream",
     "text": [
      "2022-12-02 16:34:27 [scrapy.core.scraper] DEBUG: Scraped from <200 https://pta.trunojoyo.ac.id/welcome/detail/140411100075>\r\n",
      "{'Abstrak': \"Kambing adalah salah satu hewan ternak yang dimanfaatkan oleh manusia salah satunya adalah untuk dijadikan hewan ternak untuk diambil dagingnya. Penentuan harga kambing pada umumnya berdasarkan kesepakatan tawar menawar antara penjual dan pembeli bukan berdasarkan bobot dan jenis kambing. Harga yang di sepakati biasanya menggunakan perhitungan kasar. Untuk mengukur bobot hewan ternak dapat menggunakan timbangan konvensional. Cara lain dapat menggunakan rumus lambourne untuk mengetahui bobot estimasi hewan ternak. Oleh karena itu, untuk mempermudah dalam mengukur bobot kambing di butuhkan suatu sistem yang mampu mengestimasi bobot kambing yang lebih efisien. Pada penelitian kali ini metode yang digunakan adalah BLOB (Binary Large Object). Jumlah data yang digunakan adalah 40 data kambing dengan 3 jarak pengambilan citra yaitu 50cm, 70cm, dan 90cm. Tujuan dari penelitian ini untuk memberikan manfaat bagi kedua pihak baik penjual maupun pembeli dalam menentukan bobot kambing yang digunakan untuk menentukan perkiraan harga kambing yang sesuai. Hasil pengujian Mann Whitney Test pada skenario I terdapat perbedaan signifikan sebesar 0.012 pada uji panjang badan, dan hasil pengujian akurasi menggunakan RMSE (Root Mean Squere Error) yang terbaik adalah pada skenario III sebesar 45.94, karena nilainya paling rendah diantara 3 skenario uji coba.'\"}\n"
     ]
    },
    {
     "name": "stderr",
     "output_type": "stream",
     "text": [
      "2022-12-02 16:34:27 [scrapy.core.scraper] DEBUG: Scraped from <200 https://pta.trunojoyo.ac.id/welcome/detail/140411100076>\r\n",
      "{'Abstrak': None}\n"
     ]
    },
    {
     "name": "stderr",
     "output_type": "stream",
     "text": [
      "2022-12-02 16:34:27 [scrapy.core.engine] DEBUG: Crawled (200) <GET https://pta.trunojoyo.ac.id/welcome/detail/140411100077> (referer: None)\n"
     ]
    },
    {
     "name": "stderr",
     "output_type": "stream",
     "text": [
      "2022-12-02 16:34:27 [scrapy.core.engine] DEBUG: Crawled (200) <GET https://pta.trunojoyo.ac.id/welcome/detail/140411100078> (referer: None)\n"
     ]
    },
    {
     "name": "stderr",
     "output_type": "stream",
     "text": [
      "2022-12-02 16:34:27 [scrapy.core.scraper] DEBUG: Scraped from <200 https://pta.trunojoyo.ac.id/welcome/detail/140411100077>\r\n",
      "{'Abstrak': None}\n"
     ]
    },
    {
     "name": "stderr",
     "output_type": "stream",
     "text": [
      "2022-12-02 16:34:27 [scrapy.core.scraper] DEBUG: Scraped from <200 https://pta.trunojoyo.ac.id/welcome/detail/140411100078>\r\n",
      "{'Abstrak': 'Ilmu Pengetahuan Alam atau Sains adalah salah satu ilmu yang penting dalam dunia pendidikan. Yang menjadi peranan penting bagi perkembangan sains adalah ilmu biologi. Salah satu materi tentang ilmu biologi adalah organ pankreas. Organ pankreas mempunyai struktur dan fungsi yang kompleks sehingga sulit untuk dilihat secara kasat mata. Tujuan dari penelitian ini adalah untuk merancang aplikasi pendukung pembelajaran anatomi tubuh manusia organ pankreas. Media pembelajaran dengan Virtual Reality akan sangat membantu bagi kelangsungan belajar para peserta didik. Virtual Reality merupakan teknologi yang membuat pengguna untuk berinteraksi dengan lingkungan maya yang disimulasikan seperti nyata oleh komputer. Dengan fitur yang ada didalam aplikasi ini yaitu zoom, informasi, penyakit dan mekanisme kerja organ pankreas peserta didik akan disimulasikan kedalam organ pankreas sehingga dapat memahami dengan baik materi tentang organ pankreas. Berdasarkan penelitian yang dilakukan pada siswa dan guru MTS Miftahul Ulum dapat dengan hasil kuisioner diperoleh skor rata-rata  71,89 user experience dan 79,55 user interface, serta kenaikan nilai para siswa yang artinya aplikasi ini efektif dan sangat membantu dalam proses pembelajaran. \\nKata Kunci : Sains, Virtual Reality, Pankreas, User Experience, User Interface.'}\n"
     ]
    },
    {
     "name": "stderr",
     "output_type": "stream",
     "text": [
      "2022-12-02 16:34:27 [scrapy.core.engine] DEBUG: Crawled (200) <GET https://pta.trunojoyo.ac.id/welcome/detail/140411100079> (referer: None)\n"
     ]
    },
    {
     "name": "stderr",
     "output_type": "stream",
     "text": [
      "2022-12-02 16:34:28 [scrapy.core.scraper] DEBUG: Scraped from <200 https://pta.trunojoyo.ac.id/welcome/detail/140411100079>\r\n",
      "{'Abstrak': None}\n"
     ]
    },
    {
     "name": "stderr",
     "output_type": "stream",
     "text": [
      "2022-12-02 16:34:28 [scrapy.core.engine] DEBUG: Crawled (200) <GET https://pta.trunojoyo.ac.id/welcome/detail/140411100084> (referer: None)\n"
     ]
    },
    {
     "name": "stderr",
     "output_type": "stream",
     "text": [
      "2022-12-02 16:34:28 [scrapy.core.scraper] DEBUG: Scraped from <200 https://pta.trunojoyo.ac.id/welcome/detail/140411100084>\r\n",
      "{'Abstrak': 'Al-qur’an merupakan kitab suci yang menjadi pedoman bagi umat\\nIslam. Al-qur’an juga telah diterjemahkan ke dalam berbagai bahasa\\nuntuk mempermudah memahami makna setiap ayat dalam Al-qur’an.\\nNamun, masih banyak yang kurang memahami makna pada terjemahan\\nayat al-qur’an, sehingga dibutuhkan suatu tafsir atau penjelasan terperinci.\\nSeiring dengan perkembangan teknologi, banyak tafsir al-qur’an digital\\nyang telah dilengkapi dengan sistem pencarian. Akan tetapi, masih\\nterdapat kesulitan untuk mencari sebuah tafsir al-qur’an yang sesuai\\ndengan bahasan atau topik dikarenakan satu surat dengan surat lainnya\\nmemiliki persamaan dan perbedaan topik tertentu. Oleh karena itu\\ndiusulkan suatu sistem pencarian teks menggunakan Information Retrival\\nyang memungkinkan pengguna menemukan informasi yang relevan atau\\nsesuai kebutuhan. Penelitian ini menggunakan metode Enhanced Confix\\nStripping Stemmer yang digunakan untuk proses pembentukan kata dasar\\nyang akurat dan metode Cosine Similarity untuk menghitung kemiripan\\nquery dengan keyword query di database. Berdasarkan hasil pengujian\\nsistem menggunakan stemming Enhanced Confix Stripping Stemmer\\ndidapatkan nilai akurasi (precision) sebesar 71.96% dan tingkat\\nkemampuan untuk mengambil semua ayat yang relevan (recall) 98.64%,\\nsedangkan tanpa menggunakan stemming didapatkan nilai akurasi\\n(precision) sebesar 82.95% dan tingkat kemampuan untuk mengambil\\nsemua ayat yang relevan (recall) sebesar 76.70 %.'}\n"
     ]
    },
    {
     "name": "stderr",
     "output_type": "stream",
     "text": [
      "2022-12-02 16:34:28 [scrapy.core.engine] DEBUG: Crawled (200) <GET https://pta.trunojoyo.ac.id/welcome/detail/140411100082> (referer: None)\n"
     ]
    },
    {
     "name": "stderr",
     "output_type": "stream",
     "text": [
      "2022-12-02 16:34:28 [scrapy.core.scraper] DEBUG: Scraped from <200 https://pta.trunojoyo.ac.id/welcome/detail/140411100082>\r\n",
      "{'Abstrak': 'Pada era globalisasi yang semakin maju perkembangan teknologi semakin canggih dan semua menggunakan kontrol jarak jauh yang memudahkan pekerjaan manusia. Pada beberapa tahun kebelakang sebelum di temukan eknologi Internet Of Things masih menggunakan kontrol manual dan konvensional sekarang dengan teknologi semakin maju dan penelitian yang terus menerus berkembang yang di harapkan bisa berdampak positif pada kehidupan manusia dimana melakukan analisis curah hujan untuk mengukur intensitas curah hujan di suatu wilayah tertentu data yang nanti di hasilkan untuk memprediksi seberapa derasnya hujan tersebut. Komponen yang akan di gunakan adalah mikrokontroler (Arduino) dan sensor curah hujan. Sensor tersebut yaitu untuk membaca keadaan di sekitar dan mengukur data intensitas curah hujan. Dimana data intensitas curah hujan tersebut di gunakan untuk peringatan dini bencana alam banjir dan mengurangi gagal panen petani. Alat ini juga bisa dikendalikan dari jarak maksimal 10 meter dan kesensitifan sensor cukup cepat. Hasil dari perbandingan pengiriman data dengan menggunakan internet of things dan SMS Gateway memiliki rata-rata 7.5 dan 2.4 detik. Untuk pengiriman tersebut lebih cepat SMS Gateway tetapi metode tersebut memiliki banyak kekurangan seperti pengisian pulsa yang cukup mahal. Sedangkan internet of things hanya bergantung pada internet.'}\n"
     ]
    },
    {
     "name": "stderr",
     "output_type": "stream",
     "text": [
      "2022-12-02 16:34:28 [scrapy.core.engine] DEBUG: Crawled (200) <GET https://pta.trunojoyo.ac.id/welcome/detail/140411100085> (referer: None)\n"
     ]
    },
    {
     "name": "stderr",
     "output_type": "stream",
     "text": [
      "2022-12-02 16:34:28 [scrapy.core.engine] DEBUG: Crawled (200) <GET https://pta.trunojoyo.ac.id/welcome/detail/140411100086> (referer: None)\n"
     ]
    },
    {
     "name": "stderr",
     "output_type": "stream",
     "text": [
      "2022-12-02 16:34:28 [scrapy.core.scraper] DEBUG: Scraped from <200 https://pta.trunojoyo.ac.id/welcome/detail/140411100085>\r\n",
      "{'Abstrak': 'Candi Panataran dikenal sebagai salah satu candi Hindu tertua di Indonesia memiliki sejarah panjang yang dapat dijadikan sebagai media pembelajaran. Minimnya informasi yang bisa didapat di area wisata Candi Panataran membuat pengunjung hanya memanfaatkan waktunya untuk berswafoto tanpa mengerti apa yang ada disana. Oleh karena itu dibutuhkan suatu aplikasi yang dapat memperkenalkan Candi Panataran dari sejarah, fungsi, letak, dan cerita. Pengintegrasian visual candi ke dalam dunia virtual dengan metode Situated Learning menghasilkan suatu aplikasi Virtual Reality yang dapat mensimulasikan keadaan Candi Panataran berbasis Android. Pengguna dapat merasakan sensasi nyata menjelajah Candi Panataran. Metode Situated Learning digunakan sebagai desain informasi apa saja yang ditampilkan dalam penjelajahan candi. Situated Learning dipilih karena efektivitas dalam membangun aplikasi Virtual Reality dengan prosentase 80,7% yang berarti sangat baik. Aplikasi Virtual Reality Candi Panataran juga efektif untuk pembelajaran sejarah Candi Panataran di buktikan dengan prosentase hasil pengujian User Experince sebesar 79,8% yang berarti baik dan pengujian Heuristic secara umum dengan nilai prosentase sebesar 80% berarti sangat baik, serta pada uji Heuristic secara khusus oleh Dinas Pariwisata Budaya Pemuda, dan Olahraga dengan prosentase 72% yang berarti baik dan aplikasi dapat dijadikan sebagai media promosi Candi Panataran.\\n\\nKata kunci : Virtual Reality, Situated Learning, Candi Panataran'}\n"
     ]
    },
    {
     "name": "stderr",
     "output_type": "stream",
     "text": [
      "2022-12-02 16:34:28 [scrapy.core.scraper] DEBUG: Scraped from <200 https://pta.trunojoyo.ac.id/welcome/detail/140411100086>\r\n",
      "{'Abstrak': None}\n"
     ]
    },
    {
     "name": "stderr",
     "output_type": "stream",
     "text": [
      "2022-12-02 16:34:28 [scrapy.core.engine] DEBUG: Crawled (200) <GET https://pta.trunojoyo.ac.id/welcome/detail/140411100083> (referer: None)\n"
     ]
    },
    {
     "name": "stderr",
     "output_type": "stream",
     "text": [
      "2022-12-02 16:34:28 [scrapy.core.engine] DEBUG: Crawled (200) <GET https://pta.trunojoyo.ac.id/welcome/detail/140411100087> (referer: None)\n"
     ]
    },
    {
     "name": "stderr",
     "output_type": "stream",
     "text": [
      "2022-12-02 16:34:29 [scrapy.core.scraper] DEBUG: Scraped from <200 https://pta.trunojoyo.ac.id/welcome/detail/140411100083>\r\n",
      "{'Abstrak': None}\n"
     ]
    },
    {
     "name": "stderr",
     "output_type": "stream",
     "text": [
      "2022-12-02 16:34:29 [scrapy.core.scraper] DEBUG: Scraped from <200 https://pta.trunojoyo.ac.id/welcome/detail/140411100087>\r\n",
      "{'Abstrak': 'Berita merupakan suatu informasi berdasarkan fakta atau laporan mengenai suatu kejadian yang sedang, atau telah terjadi. Berita dipublikasikan melalui media cetak, siaran, internet, maupun dari mulut ke mulut. kebutuhan informasi di Indonesia dalam bentuk digital baik berupa teks atau dokumen. Pengklasifikasian berita masih dilakukan secara manual sehingga rentan terjadi kesalahan. Banyaknya berita yang harus diklasifikasikan berdasarkan kategorinya dalam waktu yang singkat akan membuat editor mengalami kesulitan dan dapat menimbulkan kesalahan dalam pengkategoriannya dikarenakan editor harus membaca satu per satu berita-berita yang akan diklasifikasikan. Apabila pengklasifikasian berita dilakukan secara otomatis akan meminimalisir kesalahan pengkategorian dan lebih efisien. Dari implementasi sistem yang telah dilakukan, klasifikasi berita olahraga berbahasa Indonesia mampu diselesaikan dengan menggunakan metode Support Vector Machine dengan tingkat akurasi 95.72%. Berdasarkan nilai evaluasi f1-score, Support Vector Machine menghasilkan nilai evaluasi sebesar 95.72%, nilai Precision menghasilkan nilai evaluasi sebesar 95.72% dan nilai Recall menghasilkan nilai sebesar 95.72%.Hal tersebut menunjukkan bahwa dalam penelitian ini model Support Vector Machine menghasilkan ketepatan klasifikasi berita olahraga berbahasa Indonesia yang lebih baik.\\n\\nKata kunci: Klasifikasi, Berita Olahraga Berbahasa Indonesia, Support Vector Machine'}\n"
     ]
    },
    {
     "name": "stderr",
     "output_type": "stream",
     "text": [
      "2022-12-02 16:34:29 [scrapy.core.engine] DEBUG: Crawled (200) <GET https://pta.trunojoyo.ac.id/welcome/detail/140411100080> (referer: None)\n"
     ]
    },
    {
     "name": "stderr",
     "output_type": "stream",
     "text": [
      "2022-12-02 16:34:29 [scrapy.core.scraper] DEBUG: Scraped from <200 https://pta.trunojoyo.ac.id/welcome/detail/140411100080>\r\n",
      "{'Abstrak': 'Badan Amil Zakat Nasional (BAZNAS) Bojonegoro merupakan\\nsalah satu lembaga yang bertanggung jawab untuk menerima dan\\nmenyalurkan zakat di kabupaten Bojonegoro. Dalam penentuan penerima\\nzakat masih dilakukan secara manual sesuai kriteria yang ada. Hal itu\\nmembuat pemilihan calon penerima zakat kurang efektif secara waktu.\\nOleh karena itu perlu adanya sebuah sistem terkomputerisasi atau Sistem\\nPendukung Keputusan untuk penentuan penerima zakat berdasarkan\\nkriteria yang ada. Kriteria yang akan digunakan pada penelitian ini ada\\nempat yaitu kondisi rumah, kondisi ekonomi, kondisi fisik dan\\ntanggungan. Sistem yang akan dibangun pada penelitian ini menggukan\\nmetode Weighted Product, metode Weighted Product dipilih karena\\nmampu menyeleksi alternatif terbaik dari sejumlah alternatif dan\\nkeunggulannya dalam teknik pembobotan. Penelitian dilakukan dengan\\nmencari nilai bobot untuk setiap kriteria, kemudian dilakukan\\nperangkingan yang akan menghasilkan alternatif terbaik. Dengan sistem\\ntersebut diharapkan mampu memudahkan Badan Amil Zakat Nasional\\nKabupaten Bojonegoro untuk menentukan prioritas kelayakan penerima\\nzakat. Dari hasil pengujian, sistem menghasilkan tingkat akurasi tertinggi\\nsebesar 92% jika dibandingkan dengan hasil pengolahan manual oleh\\nBadan Amil Zakat Nasional (BAZNAS) Kabupaten Bojonegoro.\\nKata Kunci: penerima zakat, Sistem Pendukung Keputusan, Weighted\\nProduct.'}\n"
     ]
    },
    {
     "name": "stderr",
     "output_type": "stream",
     "text": [
      "2022-12-02 16:34:29 [scrapy.core.engine] DEBUG: Crawled (200) <GET https://pta.trunojoyo.ac.id/welcome/detail/140411100081> (referer: None)\n"
     ]
    },
    {
     "name": "stderr",
     "output_type": "stream",
     "text": [
      "2022-12-02 16:34:29 [scrapy.core.engine] DEBUG: Crawled (200) <GET https://pta.trunojoyo.ac.id/welcome/detail/140411100089> (referer: None)\n"
     ]
    },
    {
     "name": "stderr",
     "output_type": "stream",
     "text": [
      "2022-12-02 16:34:29 [scrapy.core.scraper] DEBUG: Scraped from <200 https://pta.trunojoyo.ac.id/welcome/detail/140411100081>\r\n",
      "{'Abstrak': 'Permainan adalah salah satu media hiburan yang dimainkan oleh semua kalangan baik dari anak-anak hingga dewasa, terutama permainan online. Permainan online merupakan jenis permainan yang banyak diminati, hal ini menjadi alasan permainan online terus dikembangkan. Pada penelitian ini, sebuah permainan online dikembangkan dengan mengimplementasikan algoritma maze generation yang terbaik dan penyimpanan cloud untuk pembuatan permainan maze. Algoritma yang dibandingkan adalah Binary Tree, Aldous-Broder, Hunt-and-Kill, Growing Tree, dan Wilson’s. Algoritma pilihan yang terbaik diterapkan untuk menghasilkan lintasan maze sedangkan penyimpanan cloud digunakan untuk menyimpan akun player, score, dan result games. Selain itu, permainan ini juga dibuat menggunakan WebGL untuk pembuatan objek berbasis web. Hasil pengujian perbandingan maze menunjukkan bahwa algoritma tercepat untuk membuat maze adalah algoritma Binary Tree dengan rata-rata waktu 5,13 miliseconds pada ukuran maze 30x30. Dalam pengujian efisiensi penyimpanan, penyimpanan cloud lebih efisien dibandingkan penyimpanan lokal, dengan rata-rata waktu 21,20 miliseconds.'}\n"
     ]
    },
    {
     "name": "stderr",
     "output_type": "stream",
     "text": [
      "2022-12-02 16:34:29 [scrapy.core.scraper] DEBUG: Scraped from <200 https://pta.trunojoyo.ac.id/welcome/detail/140411100089>\r\n",
      "{'Abstrak': None}\n"
     ]
    },
    {
     "name": "stderr",
     "output_type": "stream",
     "text": [
      "2022-12-02 16:34:30 [scrapy.core.engine] DEBUG: Crawled (200) <GET https://pta.trunojoyo.ac.id/welcome/detail/140411100090> (referer: None)\n"
     ]
    },
    {
     "name": "stderr",
     "output_type": "stream",
     "text": [
      "2022-12-02 16:34:30 [scrapy.core.engine] DEBUG: Crawled (200) <GET https://pta.trunojoyo.ac.id/welcome/detail/140411100088> (referer: None)\n"
     ]
    },
    {
     "name": "stderr",
     "output_type": "stream",
     "text": [
      "2022-12-02 16:34:30 [scrapy.core.scraper] DEBUG: Scraped from <200 https://pta.trunojoyo.ac.id/welcome/detail/140411100090>\r\n",
      "{'Abstrak': 'ABSTRAK\\nGinjal merupakan organ yang sangat penting dalam sistem metabolisme tubuh kita. Penyakit ginjal merupakan penyakit yang harus ditangani sejak dini, pasalnya penyakit tersebut dapat berisiko kematian bagi penderita dan dapat juga menjadi pemicu timbulnya penyakit lain seperti jantung, hipertensi, diabetes dll. Apabila penyakit ginjal bisa dideteksi secara dini, resiko kematian bisa segera dicegah. Untuk itu skripsi ini membuat sebuah sistem yang bisa membantu mendiagnosa penyakit ginjal. Sistem ini menerapkan fuzzy logic metode sugeno yang akan menghasilkan diagnosa penyakit ginjal dan tingkat keparahannya berdasarkan gejala yang dialami oleh seseorang, Hasil dari implementasi fuzzy logic metode sugeno dalam mendiagnosis penyakit ginjal, didapat nilai akurasi sebesar 75,56%. Dengan demikian hasil konversi akurasi diagnosis menunjukkan bahwa hasil diagnosis adalah “baik”.\\n\\nKata Kunci : Ginjal, Fuzzy Logic, Sugeno.\\n'}\n"
     ]
    },
    {
     "name": "stderr",
     "output_type": "stream",
     "text": [
      "2022-12-02 16:34:30 [scrapy.core.scraper] DEBUG: Scraped from <200 https://pta.trunojoyo.ac.id/welcome/detail/140411100088>\r\n",
      "{'Abstrak': 'Menu merupakan sebuah daftar makanan yang telah dilengkapi dengan harga masing-masing, yang disediakan dan ditampilkan untuk menarik pelanggan serta memberikan nilai terhadap makanan yang ditawarkan. Pemesanan menu makanan terkadang mengalami kendala dengan kurangnya pelayanan dalam proses pemesanan karena kondisi restoran yang ramai. Selain itu ada lagi permasalahan yang dihadapi pelanggan ketika terkadang malas untuk melihat daftar menu yang telalu banyak sehingga pelanggan hanya memesan menu yang sudah biasa pelanggan dipesan dan sulitnya karyawan dalam mencatat menu pesanan dari pelanggan apabila pesanan pelanggan banyak karena kondisi restoran yang ramai. Maka dari itu dibutuhkan sistem restoran yang dapat menangani permasalahan berkaitan dengan proses pemesanan dan juga rekomendasi pemilihan menu makanan. Hasil dari implementasi metode Singular Value Decomposition untuk rekomendasi menu makanan, menghasilkan nilai akurasi dengan hasil perhitungan F1-Score sebesar 16,66% berdasarkan pengujian data dengan reduksi yang dilakukan sebanyak ¼ dari masing-masing matrik.'}\n"
     ]
    },
    {
     "name": "stderr",
     "output_type": "stream",
     "text": [
      "2022-12-02 16:34:30 [scrapy.core.engine] DEBUG: Crawled (200) <GET https://pta.trunojoyo.ac.id/welcome/detail/140411100091> (referer: None)\n"
     ]
    },
    {
     "name": "stderr",
     "output_type": "stream",
     "text": [
      "2022-12-02 16:34:30 [scrapy.core.engine] DEBUG: Crawled (200) <GET https://pta.trunojoyo.ac.id/welcome/detail/140411100092> (referer: None)\n"
     ]
    },
    {
     "name": "stderr",
     "output_type": "stream",
     "text": [
      "2022-12-02 16:34:30 [scrapy.core.scraper] DEBUG: Scraped from <200 https://pta.trunojoyo.ac.id/welcome/detail/140411100091>\r\n",
      "{'Abstrak': '         Pengenalan objek pada citra memberi alternatif baru untuk mengetahui bobot sapi dengan Image Processing. Image Processing dapat membantu mempercepat identifikasi bobot seekor sapi. Pada pemrosesan citra, citra yang diperoleh akan di proses sedemikian rupa. Penelitian ini menggunakan metode adaptive thresholding dan Connected Component Labeling (CCL). Hasil segmentasi citra menggunakan thresholding masih terdapat noise sehingga diperlukan metode CCL untuk membuang noise pada citra. Dataset yang digunakan untuk pelatihan adalah dataset citra sapi. Dataset sapi memiliki citra sebanyak 120 terdiri dari 3 jarak. Penelitian bertujuan untuk mengetahui seberapa akurat estimasi bobot sapi menggunakan metode adaptive thresholding dan CCL, kedua metode tersebut cukup baik untuk penelitian ini. Hasil yang didapat pada penelitian ini adalah hasil segmentasi citra yang baik, dapat menambah tingkat akurasi. Pengukuran akurasi menggunakan RMSE yang paling baik pada penelitian ini yaitu sebesar 20,354 pada jarak 150 cm. \\n\\n\\nKata kunci: Bobot, image processing, adaptive thresholding, connected component lableling.\\n'}\n"
     ]
    },
    {
     "name": "stderr",
     "output_type": "stream",
     "text": [
      "2022-12-02 16:34:30 [scrapy.core.scraper] DEBUG: Scraped from <200 https://pta.trunojoyo.ac.id/welcome/detail/140411100092>\r\n",
      "{'Abstrak': 'Kemampuan komputer untuk melakukan identifikasi atribut pejalan kaki mendapat perhatian yang besar dalam penelitian computer vision karena penerapannya yang cukup tinggi, salah satunya di bidang sistem pengawasan visual. Metode-metode yang digunakan oleh para peneliti sebelumnya masih menggunakan handmade feature (misalnya color histograms dan local binary patterns) yang memakan waktu karena harus mencari fitur yang cocok dari sekian banyak fitur untuk kasus yang dihadapi. Pada penelitian ini diusulkan metode Convolutional Neural Networks (CNN) yang memiliki kemampuan untuk melakukan pembelajaran fitur secara otomatis (feature learning). CNN memiliki beberapa hyper-parameter yang nilainya mempengaruhi kinerja klasifikasi, salah satu diantaranya adalah jumlah lapisan konvolusi. Pada penelitian ini, dilakukan beberapa skenario percobaan untuk mengetahui pengaruh jumlah lapisan terhadap kinerja CNN. Beberapa arsitektur CNN yang berbeda dilatih dan diuji menggunakan dataset PETA yang berisi gambar jarak jauh pejalalan kaki. Hasil dari uji coba yang dilakukan, tiga model CNN dengan jumlah lapisan konvolusi tiga, lima dan tujuh memperoleh rata-rata f1 score secara berturut-turut sebesar 56.76%, 59.60%, dan 69.00% dari tujuh atribut yang diidentifikasi. Dari hasil ini dapat disimpulkan bahwa semakin banyak jumlah lapisan konvolusi yang digunakan, kinerja CNN menjadi semakin baik.'}\n"
     ]
    },
    {
     "name": "stderr",
     "output_type": "stream",
     "text": [
      "2022-12-02 16:34:30 [scrapy.core.engine] DEBUG: Crawled (200) <GET https://pta.trunojoyo.ac.id/welcome/detail/140411100093> (referer: None)\n"
     ]
    },
    {
     "name": "stderr",
     "output_type": "stream",
     "text": [
      "2022-12-02 16:34:30 [scrapy.core.engine] DEBUG: Crawled (200) <GET https://pta.trunojoyo.ac.id/welcome/detail/140411100096> (referer: None)\n"
     ]
    },
    {
     "name": "stderr",
     "output_type": "stream",
     "text": [
      "2022-12-02 16:34:30 [scrapy.core.scraper] DEBUG: Scraped from <200 https://pta.trunojoyo.ac.id/welcome/detail/140411100093>\r\n",
      "{'Abstrak': 'Penyebaran berita palsu atau berita hoax saat ini sudah semakin tak terbendung. Pesatnya pertumbuhan website yang tidak terverifikasi, semakin memperburuk masalah ini. Untuk itu, perlu adanya sebuah sistem yang dapat melakukan klasifikasi berita berdasarkan teks, yang dapat menjadi media penyaring berita-berita tersebut. Salah satu metode yang paling sering digunakan, ialah metode Naïve Bayes yang diketahui mampu memberikan hasil terbaik untuk klasifikasi berita palsu secara umum. Namun masih lemah untuk klasifikasi berita dengan topik tertentu. Untuk mengatasi kekurangan tersebut, pada penelitian ini sistem yang dibuat untuk melakukan klasifikasi terhadap topik berita terlebih dahulu menggunakan metode Support Vector Machine. Metode SVM dipilih karena sudah terbukti memiliki akurasi tinggi untuk klasifikasi berita berbahasa Indonesia. Kemudian, untuk menambah akurasi hasil klasifikasi ini, digunakan pula gabungan TF-IDF dan Mutual Information sebagai penyeleksi fitur. Hasil pengukuran performa penggunaan metode SVM dan Naive Bayes untuk klasifikasi berita palsu atau hoax dengan tiga kategori yang telah ditentukan yakni kesehatan dan makanan, politik, serta tokoh, memperoleh nilai rata-rata akurasi=81.33%, precission=75,31%, dan recall=96%.'}\n"
     ]
    },
    {
     "name": "stderr",
     "output_type": "stream",
     "text": [
      "2022-12-02 16:34:30 [scrapy.core.scraper] DEBUG: Scraped from <200 https://pta.trunojoyo.ac.id/welcome/detail/140411100096>\r\n",
      "{'Abstrak': 'Batik adalah kerajinan yang menjadi bagian warisan dari budaya Indonesia dan telah diakui oleh UNESCO pada tahun 2009. Batik menjadi daya tarik pembeli yang jumlah peminatnya terus meningkat dari tahun ke tahun. Sehingga banyak bermunculan toko yang memproduksi dan  memperjual belikan batik hasil produksinya. Dari banyaknya toko yang ada tidak semuanya telah mengunakan sistem digital dalam proses bisnis yang berlangsung. Beberapa toko batik masih menggunakan proses transaksi dan entry laporan penjualan secara sederhana sehingga menyita banyak waktu pegawai maupun pemilik toko tersebut. Selain itu pemilik toko tidak dapat pemerkirakan jumlah penyediaan batik untuk beberapa hari kedepan dari hasil entry data laporan yang masuk secara sederhana. Untuk itu diperlukan adanya sebuah aplikasi yang bisa membantu dalam menangani proses bisnis di toko batik dan memberi prediksi jumlah batik yang akan terjual melalui proses peramalan. Aplikasi tersebut dibangun dibangun dan dirancang berbasis mobile dengan implementasi metode jaringan saraf tiruan algoritma backpropagation. Jaringan saraf tiruan algoritma backpropagation digunakan untuk memprediksi jumlah batik yang akan terjual dalam 1 atau 2 hari kedepan. Hasil dari implementasi metode jaringan saraf tiruan algoritma backpropagation dalam memprediksi jumlah permintaan batik, dengan parameter yang digunakan yaitu learning rate 0.3, max iterasi 1000 dan max error 0.008363 menghasilkan nilai rata-rata akurasi sebesar 50.94% dengan nilai MSE terkecil 27.2%.'}\n"
     ]
    },
    {
     "name": "stderr",
     "output_type": "stream",
     "text": [
      "2022-12-02 16:34:31 [scrapy.core.engine] DEBUG: Crawled (200) <GET https://pta.trunojoyo.ac.id/welcome/detail/140411100094> (referer: None)\n"
     ]
    },
    {
     "name": "stderr",
     "output_type": "stream",
     "text": [
      "2022-12-02 16:34:31 [scrapy.core.engine] DEBUG: Crawled (200) <GET https://pta.trunojoyo.ac.id/welcome/detail/140411100098> (referer: None)\n"
     ]
    },
    {
     "name": "stderr",
     "output_type": "stream",
     "text": [
      "2022-12-02 16:34:31 [scrapy.core.scraper] DEBUG: Scraped from <200 https://pta.trunojoyo.ac.id/welcome/detail/140411100094>\r\n",
      "{'Abstrak': None}\n"
     ]
    },
    {
     "name": "stderr",
     "output_type": "stream",
     "text": [
      "2022-12-02 16:34:31 [scrapy.core.scraper] DEBUG: Scraped from <200 https://pta.trunojoyo.ac.id/welcome/detail/140411100098>\r\n",
      "{'Abstrak': 'Identifikasi atribut pada citra pejalan kaki masih memiliki beberapa kendala mendasar. Sudut penglihatan kamera, pencahayaan, dan beragamnya citra merupakan beberapa kendala yang ditemukan. Dibutuhkan metode ektraksi fitur yang cukup baik. Oleh karena itu penelitian ini menggunakan gabungan dari fitur warna dan tekstur. Metode ekstraksi fitur berbasis warna dan tekstur yang digunakan adalah Color Histogram dan Multi Block Local Binary Pattern (MB-LBP) dengan metode pembelajaran yang digunakan adalah Adaptive Boosting (Adaboost). Dataset yang digunakan adalah dataset PEdesTrian Attribute (PETA) yang memiliki jumlah data mencapai 19000. Penelitian ini bertujuan untuk mengetahui pengaruh ketika memakai fitur warna atau tekstur saja dengan gabungan fitur warna dan tekstur. Hasilnya adalah gabungan dari fitur warna dan tekstur dapat meningkatkan akurasi pada beberapa atribut. Akurasi tertinggi didapatkan oleh atribut sandal, dengan akurasi mencapai 76%.'}\n"
     ]
    },
    {
     "name": "stderr",
     "output_type": "stream",
     "text": [
      "2022-12-02 16:34:31 [scrapy.core.engine] DEBUG: Crawled (200) <GET https://pta.trunojoyo.ac.id/welcome/detail/140411100099> (referer: None)\n"
     ]
    },
    {
     "name": "stderr",
     "output_type": "stream",
     "text": [
      "2022-12-02 16:34:31 [scrapy.core.scraper] DEBUG: Scraped from <200 https://pta.trunojoyo.ac.id/welcome/detail/140411100099>\r\n",
      "{'Abstrak': 'Anak Autis memerlukan bimbingan khusus dalam berinteraksi dan berkomunikasi, misalnya melalui media edukasi dan komunikasi yang secara khusus menangani anak  autis. Pada saat ini perkembangan penerapan teknologi virtual reality banyak digunakan di berbagai bidang salah satunya sebagai media edukasi anak autis. Teknologi virtual reality dapat dimanfaatkan sebagai salah satu media terapi bagi anak anak penderita autis. Peneliti sebelumnya telah menyoroti bahwa pembelajaran berbasis virtual reality lingkungan, lingkungan simulasi komputer, dapat mempermudah proses belajar di kalangan anak autis. Aplikasi virtual reality ini dapat membantu anak autis untuk mengenali lingkungan sekolah khususnya ruangan kelas. Pengujian dari penelitian ini  menggunakan heuristic evaluation yakni untuk user experience dan user interface. Hasil akhir prosentase yang diperoleh untuk user experience adalah prosentase tertinggi indikator interest sebanyak 81,33% sedangkan terendah indikator control 70%. Hasil akhir prosentase yang diperoleh untuk user interface adalah prosentase tertinggi indikator match between system and the real world sebanyak 91% sedangkan terendah indikator use control and freedom 52%.'}\n"
     ]
    },
    {
     "name": "stderr",
     "output_type": "stream",
     "text": [
      "2022-12-02 16:34:31 [scrapy.core.engine] DEBUG: Crawled (200) <GET https://pta.trunojoyo.ac.id/welcome/detail/140411100097> (referer: None)\n"
     ]
    },
    {
     "name": "stderr",
     "output_type": "stream",
     "text": [
      "2022-12-02 16:34:31 [scrapy.core.engine] DEBUG: Crawled (200) <GET https://pta.trunojoyo.ac.id/welcome/detail/140411100095> (referer: None)\n"
     ]
    },
    {
     "name": "stderr",
     "output_type": "stream",
     "text": [
      "2022-12-02 16:34:31 [scrapy.core.scraper] DEBUG: Scraped from <200 https://pta.trunojoyo.ac.id/welcome/detail/140411100097>\r\n",
      "{'Abstrak': 'Segmentasi citra merupakan tahapan terpenting dalam \\nmemperbaiki pengenalan pola. Sampai saat ini belum ada metode \\nsegmentasi yang optimal untuk citra dengan background dinamis.\\nSegmentasi bertujuan untuk membagi prosedur citra menjadi \\nbeberapa bagian pokok penyusun citra. Dalam penelitian ini \\nsegmentasi hanya akan membagi dua bagian dari pada citra, yakni \\nbagian obyek utama dan background. Dataset yang digunakan dalam \\npenelitian ini menggunakan dataset Fish. Dilakukan preprocessing\\nterlebih dahulu dengan metode histogram equalization. Algoritma \\nsegmentasi citra yang akan digunakan pada penelitian ini yakni \\ndengan metode Fuzzy Partitions dan fuzzy partitions. Metode Fuzzy \\nPartitions digunakan untuk proses segmentasi dengan membagi \\npartisi pada citra. Fuzzy Interpolations untuk memperbaiki kualitas \\nhasil dari segmentasi obyek utama dari suatu background. Setelah\\ndilakukan penelitian, segmentasi obyek dengan background dinamis dalam penelitian ini \\nmenunjukkan nilai akurasi 99.60% dengan menggunakan metode \\nfuzzy partitions dan fuzzy interpolations.'}\n"
     ]
    },
    {
     "name": "stderr",
     "output_type": "stream",
     "text": [
      "2022-12-02 16:34:31 [scrapy.core.scraper] DEBUG: Scraped from <200 https://pta.trunojoyo.ac.id/welcome/detail/140411100095>\r\n",
      "{'Abstrak': None}\n"
     ]
    },
    {
     "name": "stderr",
     "output_type": "stream",
     "text": [
      "2022-12-02 16:34:31 [scrapy.core.engine] DEBUG: Crawled (200) <GET https://pta.trunojoyo.ac.id/welcome/detail/140411100100> (referer: None)\n"
     ]
    },
    {
     "name": "stderr",
     "output_type": "stream",
     "text": [
      "2022-12-02 16:34:31 [scrapy.core.scraper] DEBUG: Scraped from <200 https://pta.trunojoyo.ac.id/welcome/detail/140411100100>\r\n",
      "{'Abstrak': 'Protokol websocket menyediakan komunikasi realtime dua arah. Namun dengan menerapkan protokol websocket, ancaman keamanan akan lebih banyak. Salah satu serangan yang sering terjadi adalah packet monitoring yang dilakukan oleh pihak-pihak tidak bertanggung jawab. Untuk menjaga kerahasian dan keaslian data dari serangan tersebut. Salah satu teknik yang dapat digunakan untuk pengamanan data yaitu dengan menerapkan metode enkripsi. Pada penelitian ini metode enkripsi yang digunakan adalah Rivest Code 6 (RC6) metode tersebut memiliki performa tinggi dalam prosesnya menggunakan operasi-operasi primitif, sehingga tidak terlalu mempengaruhi kinerja protokol websocket. Hasil dari uji coba avalanche effect didapatkan total perubahan untuk algoritma Rivest Code 6 (RC6) berdasarkan plaintext sebesar 28.29% dan berdasarkan kunci sebesar 52.28%. Sedangkan untuk Transport Layer Security (TLS) didapatkan total perubahan untuk berdasarkan plaintext sebesar 42.50% dan berdasarkan kunci  53.19%. Hasil uji coba performa kecepatan pengiriman pesan didapatkan nilai rata-rata keseluruhan waktu pengiriman pesan sebesar 10673 millisecond untuk Transport Layer Security (TLS) dan 6964 millisecond untuk Rivest Code 6 (RC6). Library websocket hasil modifikasi juga mampu melakukan komunikasi terenkripsi pada kondisi link komunikasi dengan tingkat probabilitas packet loss dibawah 12%.\\n\\nKata Kunci : Protokol websocket, keamanan data, performa kecepatan, enkripsi RC6.\\n'}\n"
     ]
    },
    {
     "name": "stderr",
     "output_type": "stream",
     "text": [
      "2022-12-02 16:34:31 [scrapy.core.engine] INFO: Closing spider (finished)\n"
     ]
    },
    {
     "name": "stderr",
     "output_type": "stream",
     "text": [
      "2022-12-02 16:34:31 [scrapy.extensions.feedexport] INFO: Stored csv feed (100 items) in: Abstraksi.csv\n"
     ]
    },
    {
     "name": "stderr",
     "output_type": "stream",
     "text": [
      "2022-12-02 16:34:31 [scrapy.statscollectors] INFO: Dumping Scrapy stats:\n",
      "{'downloader/request_bytes': 59516,\n",
      " 'downloader/request_count': 100,\n",
      " 'downloader/request_method_count/GET': 100,\n",
      " 'downloader/response_bytes': 483555,\n",
      " 'downloader/response_count': 100,\n",
      " 'downloader/response_status_count/200': 100,\n",
      " 'elapsed_time_seconds': 20.611516,\n",
      " 'feedexport/success_count/FileFeedStorage': 1,\n",
      " 'finish_reason': 'finished',\n",
      " 'finish_time': datetime.datetime(2022, 12, 2, 9, 34, 31, 975773),\n",
      " 'httpcompression/response_bytes': 1525343,\n",
      " 'httpcompression/response_count': 100,\n",
      " 'item_scraped_count': 100,\n",
      " 'log_count/DEBUG': 205,\n",
      " 'log_count/INFO': 11,\n",
      " 'log_count/WARNING': 1,\n",
      " 'response_received_count': 100,\n",
      " 'scheduler/dequeued': 100,\n",
      " 'scheduler/dequeued/memory': 100,\n",
      " 'scheduler/enqueued': 100,\n",
      " 'scheduler/enqueued/memory': 100,\n",
      " 'start_time': datetime.datetime(2022, 12, 2, 9, 34, 11, 364257)}\n"
     ]
    },
    {
     "name": "stderr",
     "output_type": "stream",
     "text": [
      "2022-12-02 16:34:31 [scrapy.core.engine] INFO: Spider closed (finished)\n"
     ]
    }
   ],
   "source": [
    "import scrapy\n",
    "from scrapy.crawler import CrawlerProcess\n",
    "\n",
    "\n",
    "class AbstracToCsv(scrapy.Spider):\n",
    "  name = 'Abstrac To CSV'\n",
    "  def start_requests(self):\n",
    "        x = 100000\n",
    "        for i in range (0,100):\n",
    "            x +=1\n",
    "            urls = [\n",
    "                'https://pta.trunojoyo.ac.id/welcome/detail/140411'+str(x),\n",
    "            ]\n",
    "            for url in urls:\n",
    "                yield scrapy.Request(url=url, callback=self.parse)\n",
    "\n",
    "  custom_settings = {\n",
    "      'FEED_FORMAT': 'csv',\n",
    "      'FEED_URI': 'Abstraksi.csv'\n",
    "  }\n",
    "\n",
    "  def parse(self, response):\n",
    "        yield {\n",
    "            'Abstrak':response.css('#content_journal > ul > li > div:nth-child(4) > div:nth-child(2) > p::text').get()\n",
    "              }\n",
    "\n",
    "process = CrawlerProcess()\n",
    "process.crawl(AbstracToCsv)\n",
    "process.start()"
   ]
  },
  {
   "cell_type": "markdown",
   "metadata": {
    "id": "jwH60n5-6rP2"
   },
   "source": [
    "## **Buang Baris Kosong**\n",
    "Setelah didapat hasil crawling kita baca file csv tersebut, akan tetapi pada hasil crawling tersebut masih terdapat baris yang kosong yang didapat dari link yang kosong, untuk itu perlu dihilangkan dengan source code berikut."
   ]
  },
  {
   "cell_type": "code",
   "execution_count": 3,
   "metadata": {
    "colab": {
     "base_uri": "https://localhost:8080/"
    },
    "id": "Kfem20UYmapX",
    "outputId": "6ee3a1fc-c607-45c6-defe-12607b528ac2"
   },
   "outputs": [],
   "source": [
    "import pandas as pd \n",
    "abs = pd.read_csv(\"Abstraksi.csv\",index_col=False)"
   ]
  },
  {
   "cell_type": "code",
   "execution_count": 4,
   "metadata": {
    "colab": {
     "base_uri": "https://localhost:8080/"
    },
    "id": "3N3ZGRVBmapY",
    "outputId": "62cf3ddc-4a4c-467a-8c9f-88526e8d6adb"
   },
   "outputs": [
    {
     "data": {
      "text/plain": [
       "Abstrak    0\n",
       "dtype: int64"
      ]
     },
     "execution_count": 4,
     "metadata": {},
     "output_type": "execute_result"
    }
   ],
   "source": [
    "abs.dropna(inplace=True)\n",
    "abs.isnull().sum()"
   ]
  },
  {
   "cell_type": "markdown",
   "metadata": {
    "id": "8lsWnW8g74gr"
   },
   "source": [
    "Setelah berhasil dihapus, simpan kembali dalam format csv"
   ]
  },
  {
   "cell_type": "code",
   "execution_count": 5,
   "metadata": {
    "id": "O90Au7k4mapa"
   },
   "outputs": [],
   "source": [
    "abs.to_csv(\"hasil_crawling.csv\",index=False)"
   ]
  },
  {
   "cell_type": "markdown",
   "metadata": {
    "id": "Mq6hQnGt7Y9m"
   },
   "source": [
    "## **Baca Hasil Crawling**\n",
    "Setelah baris kosong dari hasil crawling sudah dihapus kita tampilkan hasil crawling data absrak dari pta.trunojoyo seperti berikut."
   ]
  },
  {
   "cell_type": "code",
   "execution_count": 6,
   "metadata": {
    "colab": {
     "base_uri": "https://localhost:8080/",
     "height": 1000
    },
    "id": "MeCng3z14Nbd",
    "outputId": "58e5cc09-96f1-4883-fbe4-507e9980fdab"
   },
   "outputs": [
    {
     "data": {
      "text/html": [
       "<div>\n",
       "<style scoped>\n",
       "    .dataframe tbody tr th:only-of-type {\n",
       "        vertical-align: middle;\n",
       "    }\n",
       "\n",
       "    .dataframe tbody tr th {\n",
       "        vertical-align: top;\n",
       "    }\n",
       "\n",
       "    .dataframe thead th {\n",
       "        text-align: right;\n",
       "    }\n",
       "</style>\n",
       "<table border=\"1\" class=\"dataframe\">\n",
       "  <thead>\n",
       "    <tr style=\"text-align: right;\">\n",
       "      <th></th>\n",
       "      <th>Abstrak</th>\n",
       "    </tr>\n",
       "  </thead>\n",
       "  <tbody>\n",
       "    <tr>\n",
       "      <th>0</th>\n",
       "      <td>Sistem rekomendasi adalah sistem yang digunaka...</td>\n",
       "    </tr>\n",
       "    <tr>\n",
       "      <th>1</th>\n",
       "      <td>Pada saat ini proses sistem pencatatan serta p...</td>\n",
       "    </tr>\n",
       "    <tr>\n",
       "      <th>2</th>\n",
       "      <td>Penginputan dan pengolahan data anggota Jamina...</td>\n",
       "    </tr>\n",
       "    <tr>\n",
       "      <th>3</th>\n",
       "      <td>Pegawai adalah aset yang sangat penting dalam ...</td>\n",
       "    </tr>\n",
       "    <tr>\n",
       "      <th>4</th>\n",
       "      <td>Sistem rekomendasi merupakan sebuah sistem yan...</td>\n",
       "    </tr>\n",
       "    <tr>\n",
       "      <th>5</th>\n",
       "      <td>Universitas Trunojoyo Madura merupakan salah s...</td>\n",
       "    </tr>\n",
       "    <tr>\n",
       "      <th>6</th>\n",
       "      <td>Bahan baku merupakan hal utama didalam perusah...</td>\n",
       "    </tr>\n",
       "    <tr>\n",
       "      <th>7</th>\n",
       "      <td>Padi merupakan tanaman pangan yang diamati ole...</td>\n",
       "    </tr>\n",
       "    <tr>\n",
       "      <th>8</th>\n",
       "      <td>Demam Berdarah Dengue (DBD) merupakan penyakit...</td>\n",
       "    </tr>\n",
       "    <tr>\n",
       "      <th>9</th>\n",
       "      <td>Garam merupakan komoditas strategis, Provinsi ...</td>\n",
       "    </tr>\n",
       "    <tr>\n",
       "      <th>10</th>\n",
       "      <td>Demam berdarah merupakan penyakit berbahaya ya...</td>\n",
       "    </tr>\n",
       "    <tr>\n",
       "      <th>11</th>\n",
       "      <td>Perusahaan harus mampu menyeimbangan produksi ...</td>\n",
       "    </tr>\n",
       "    <tr>\n",
       "      <th>12</th>\n",
       "      <td>Penyakit gigi dan mulut merupakan salah satu m...</td>\n",
       "    </tr>\n",
       "    <tr>\n",
       "      <th>13</th>\n",
       "      <td>Saat ini perkiraan persediaan air kurang optim...</td>\n",
       "    </tr>\n",
       "    <tr>\n",
       "      <th>14</th>\n",
       "      <td>Penyakit pada gigi dan mulut merupakan suatu m...</td>\n",
       "    </tr>\n",
       "    <tr>\n",
       "      <th>15</th>\n",
       "      <td>\\n Segmentasi citra merupakan tahapan terpenti...</td>\n",
       "    </tr>\n",
       "    <tr>\n",
       "      <th>16</th>\n",
       "      <td>Bagi manusia, pengenalan obyek pada citra meru...</td>\n",
       "    </tr>\n",
       "    <tr>\n",
       "      <th>17</th>\n",
       "      <td>Menurut World Health Organization penyakit gin...</td>\n",
       "    </tr>\n",
       "    <tr>\n",
       "      <th>18</th>\n",
       "      <td>Deteksi teks adalah proses mendeteksi teks yan...</td>\n",
       "    </tr>\n",
       "    <tr>\n",
       "      <th>19</th>\n",
       "      <td>Manajemen berkas dosen dalam dunia pendidikan ...</td>\n",
       "    </tr>\n",
       "    <tr>\n",
       "      <th>20</th>\n",
       "      <td>Pada saat ini, kredit sangat diminati oleh mas...</td>\n",
       "    </tr>\n",
       "    <tr>\n",
       "      <th>21</th>\n",
       "      <td>Sistem pendukung keputusan merupakan suatu sis...</td>\n",
       "    </tr>\n",
       "    <tr>\n",
       "      <th>22</th>\n",
       "      <td>Rekam medis dalam dunia kedokteran merupakan h...</td>\n",
       "    </tr>\n",
       "    <tr>\n",
       "      <th>23</th>\n",
       "      <td>ABSTRAK \\nPemerintahan Desa (kelurahan) merupa...</td>\n",
       "    </tr>\n",
       "    <tr>\n",
       "      <th>24</th>\n",
       "      <td>Belimbing manis (Averhoa Carambola L.) merupak...</td>\n",
       "    </tr>\n",
       "    <tr>\n",
       "      <th>25</th>\n",
       "      <td>Tuberkulosis merupakan penyakit yang disebabka...</td>\n",
       "    </tr>\n",
       "    <tr>\n",
       "      <th>26</th>\n",
       "      <td>Pada pertanian modern sistem pengolahan tumbuh...</td>\n",
       "    </tr>\n",
       "    <tr>\n",
       "      <th>27</th>\n",
       "      <td>Padi merupakan hasil pertanian yang sangat uta...</td>\n",
       "    </tr>\n",
       "    <tr>\n",
       "      <th>28</th>\n",
       "      <td>ABSTRAK\\nKendaraan bermotor adalah alat transp...</td>\n",
       "    </tr>\n",
       "    <tr>\n",
       "      <th>29</th>\n",
       "      <td>Content Based Image Retrieval (CBIR) ialah sal...</td>\n",
       "    </tr>\n",
       "    <tr>\n",
       "      <th>30</th>\n",
       "      <td>Penyakit kusta adalah penyakit menahun dengan ...</td>\n",
       "    </tr>\n",
       "    <tr>\n",
       "      <th>31</th>\n",
       "      <td>Dinas Pekerjaan Umum dan Penataan Ruang (PUPR)...</td>\n",
       "    </tr>\n",
       "    <tr>\n",
       "      <th>32</th>\n",
       "      <td>Madura merupakan salah satu pulau yang terleta...</td>\n",
       "    </tr>\n",
       "    <tr>\n",
       "      <th>33</th>\n",
       "      <td>Mojokerto merupakan salah satu kabupaten di Ja...</td>\n",
       "    </tr>\n",
       "    <tr>\n",
       "      <th>34</th>\n",
       "      <td>Penjadwalan mata kuliah pada perguruan tinggi ...</td>\n",
       "    </tr>\n",
       "    <tr>\n",
       "      <th>35</th>\n",
       "      <td>Jagung merupakan salah satu tanaman yang cukup...</td>\n",
       "    </tr>\n",
       "    <tr>\n",
       "      <th>36</th>\n",
       "      <td>Berbagai cabang olahraga seperti sepak bola, t...</td>\n",
       "    </tr>\n",
       "    <tr>\n",
       "      <th>37</th>\n",
       "      <td>Diabetes adalah penyakit yang disebabkan karen...</td>\n",
       "    </tr>\n",
       "    <tr>\n",
       "      <th>38</th>\n",
       "      <td>\\nDonor ASI adalah proses pemberian ASI secara...</td>\n",
       "    </tr>\n",
       "    <tr>\n",
       "      <th>39</th>\n",
       "      <td>Konveksi Total Sport dalam proses produksinya ...</td>\n",
       "    </tr>\n",
       "    <tr>\n",
       "      <th>40</th>\n",
       "      <td>Kambing adalah salah satu hewan ternak yang di...</td>\n",
       "    </tr>\n",
       "    <tr>\n",
       "      <th>41</th>\n",
       "      <td>Ilmu Pengetahuan Alam atau Sains adalah salah ...</td>\n",
       "    </tr>\n",
       "    <tr>\n",
       "      <th>42</th>\n",
       "      <td>Al-qur’an merupakan kitab suci yang menjadi pe...</td>\n",
       "    </tr>\n",
       "    <tr>\n",
       "      <th>43</th>\n",
       "      <td>Pada era globalisasi yang semakin maju perkemb...</td>\n",
       "    </tr>\n",
       "    <tr>\n",
       "      <th>44</th>\n",
       "      <td>Candi Panataran dikenal sebagai salah satu can...</td>\n",
       "    </tr>\n",
       "    <tr>\n",
       "      <th>45</th>\n",
       "      <td>Berita merupakan suatu informasi berdasarkan f...</td>\n",
       "    </tr>\n",
       "    <tr>\n",
       "      <th>46</th>\n",
       "      <td>Badan Amil Zakat Nasional (BAZNAS) Bojonegoro ...</td>\n",
       "    </tr>\n",
       "    <tr>\n",
       "      <th>47</th>\n",
       "      <td>Permainan adalah salah satu media hiburan yang...</td>\n",
       "    </tr>\n",
       "    <tr>\n",
       "      <th>48</th>\n",
       "      <td>ABSTRAK\\nGinjal merupakan organ yang sangat pe...</td>\n",
       "    </tr>\n",
       "    <tr>\n",
       "      <th>49</th>\n",
       "      <td>Menu merupakan sebuah daftar makanan yang tela...</td>\n",
       "    </tr>\n",
       "    <tr>\n",
       "      <th>50</th>\n",
       "      <td>Pengenalan objek pada citra memberi a...</td>\n",
       "    </tr>\n",
       "    <tr>\n",
       "      <th>51</th>\n",
       "      <td>Kemampuan komputer untuk melakukan identifikas...</td>\n",
       "    </tr>\n",
       "    <tr>\n",
       "      <th>52</th>\n",
       "      <td>Penyebaran berita palsu atau berita hoax saat ...</td>\n",
       "    </tr>\n",
       "    <tr>\n",
       "      <th>53</th>\n",
       "      <td>Batik adalah kerajinan yang menjadi bagian war...</td>\n",
       "    </tr>\n",
       "    <tr>\n",
       "      <th>54</th>\n",
       "      <td>Identifikasi atribut pada citra pejalan kaki m...</td>\n",
       "    </tr>\n",
       "    <tr>\n",
       "      <th>55</th>\n",
       "      <td>Anak Autis memerlukan bimbingan khusus dalam b...</td>\n",
       "    </tr>\n",
       "    <tr>\n",
       "      <th>56</th>\n",
       "      <td>Segmentasi citra merupakan tahapan terpenting ...</td>\n",
       "    </tr>\n",
       "    <tr>\n",
       "      <th>57</th>\n",
       "      <td>Protokol websocket menyediakan komunikasi real...</td>\n",
       "    </tr>\n",
       "  </tbody>\n",
       "</table>\n",
       "</div>"
      ],
      "text/plain": [
       "                                              Abstrak\n",
       "0   Sistem rekomendasi adalah sistem yang digunaka...\n",
       "1   Pada saat ini proses sistem pencatatan serta p...\n",
       "2   Penginputan dan pengolahan data anggota Jamina...\n",
       "3   Pegawai adalah aset yang sangat penting dalam ...\n",
       "4   Sistem rekomendasi merupakan sebuah sistem yan...\n",
       "5   Universitas Trunojoyo Madura merupakan salah s...\n",
       "6   Bahan baku merupakan hal utama didalam perusah...\n",
       "7   Padi merupakan tanaman pangan yang diamati ole...\n",
       "8   Demam Berdarah Dengue (DBD) merupakan penyakit...\n",
       "9   Garam merupakan komoditas strategis, Provinsi ...\n",
       "10  Demam berdarah merupakan penyakit berbahaya ya...\n",
       "11  Perusahaan harus mampu menyeimbangan produksi ...\n",
       "12  Penyakit gigi dan mulut merupakan salah satu m...\n",
       "13  Saat ini perkiraan persediaan air kurang optim...\n",
       "14  Penyakit pada gigi dan mulut merupakan suatu m...\n",
       "15  \\n Segmentasi citra merupakan tahapan terpenti...\n",
       "16  Bagi manusia, pengenalan obyek pada citra meru...\n",
       "17  Menurut World Health Organization penyakit gin...\n",
       "18  Deteksi teks adalah proses mendeteksi teks yan...\n",
       "19  Manajemen berkas dosen dalam dunia pendidikan ...\n",
       "20  Pada saat ini, kredit sangat diminati oleh mas...\n",
       "21  Sistem pendukung keputusan merupakan suatu sis...\n",
       "22  Rekam medis dalam dunia kedokteran merupakan h...\n",
       "23  ABSTRAK \\nPemerintahan Desa (kelurahan) merupa...\n",
       "24  Belimbing manis (Averhoa Carambola L.) merupak...\n",
       "25  Tuberkulosis merupakan penyakit yang disebabka...\n",
       "26  Pada pertanian modern sistem pengolahan tumbuh...\n",
       "27  Padi merupakan hasil pertanian yang sangat uta...\n",
       "28  ABSTRAK\\nKendaraan bermotor adalah alat transp...\n",
       "29  Content Based Image Retrieval (CBIR) ialah sal...\n",
       "30  Penyakit kusta adalah penyakit menahun dengan ...\n",
       "31  Dinas Pekerjaan Umum dan Penataan Ruang (PUPR)...\n",
       "32  Madura merupakan salah satu pulau yang terleta...\n",
       "33  Mojokerto merupakan salah satu kabupaten di Ja...\n",
       "34  Penjadwalan mata kuliah pada perguruan tinggi ...\n",
       "35  Jagung merupakan salah satu tanaman yang cukup...\n",
       "36  Berbagai cabang olahraga seperti sepak bola, t...\n",
       "37  Diabetes adalah penyakit yang disebabkan karen...\n",
       "38  \\nDonor ASI adalah proses pemberian ASI secara...\n",
       "39  Konveksi Total Sport dalam proses produksinya ...\n",
       "40  Kambing adalah salah satu hewan ternak yang di...\n",
       "41  Ilmu Pengetahuan Alam atau Sains adalah salah ...\n",
       "42  Al-qur’an merupakan kitab suci yang menjadi pe...\n",
       "43  Pada era globalisasi yang semakin maju perkemb...\n",
       "44  Candi Panataran dikenal sebagai salah satu can...\n",
       "45  Berita merupakan suatu informasi berdasarkan f...\n",
       "46  Badan Amil Zakat Nasional (BAZNAS) Bojonegoro ...\n",
       "47  Permainan adalah salah satu media hiburan yang...\n",
       "48  ABSTRAK\\nGinjal merupakan organ yang sangat pe...\n",
       "49  Menu merupakan sebuah daftar makanan yang tela...\n",
       "50           Pengenalan objek pada citra memberi a...\n",
       "51  Kemampuan komputer untuk melakukan identifikas...\n",
       "52  Penyebaran berita palsu atau berita hoax saat ...\n",
       "53  Batik adalah kerajinan yang menjadi bagian war...\n",
       "54  Identifikasi atribut pada citra pejalan kaki m...\n",
       "55  Anak Autis memerlukan bimbingan khusus dalam b...\n",
       "56  Segmentasi citra merupakan tahapan terpenting ...\n",
       "57  Protokol websocket menyediakan komunikasi real..."
      ]
     },
     "execution_count": 6,
     "metadata": {},
     "output_type": "execute_result"
    }
   ],
   "source": [
    "data = pd.read_csv(\"hasil_crawling.csv\",index_col=False)\n",
    "data"
   ]
  }
 ],
 "metadata": {
  "colab": {
   "provenance": []
  },
  "kernelspec": {
   "display_name": "Python 3",
   "name": "python3"
  },
  "language_info": {
   "codemirror_mode": {
    "name": "ipython",
    "version": 3
   },
   "file_extension": ".py",
   "mimetype": "text/x-python",
   "name": "python",
   "nbconvert_exporter": "python",
   "pygments_lexer": "ipython3",
   "version": "3.8.0"
  }
 },
 "nbformat": 4,
 "nbformat_minor": 0
}